{
 "cells": [
  {
   "cell_type": "markdown",
   "id": "f30e8f0d",
   "metadata": {},
   "source": [
    "## Picture detector function"
   ]
  },
  {
   "cell_type": "code",
   "execution_count": null,
   "id": "63fcf6d7",
   "metadata": {},
   "outputs": [],
   "source": [
    "from tensorflow.keras.preprocessing import image"
   ]
  },
  {
   "cell_type": "code",
   "execution_count": 1,
   "id": "04cfd65d",
   "metadata": {},
   "outputs": [],
   "source": [
    "def predictor(location,model,dim):\n",
    "    test_image=image.load_img(location,target_size=(80,80))\n",
    "    test_image=np.asarray(test_image, dtype= np.float32)\n",
    "    test_image=test_image/255\n",
    "    test_image= test_image.reshape(-1,80,80,dim)\n",
    "    result=model.predict(test_image)\n",
    "    if result[0][0] == 1:\n",
    "        \n",
    "        prediction = \"There is ship in the image\"\n",
    "    else:\n",
    "        prediction = \"There is NO ship in the image\"\n",
    "    print(result[0][0])\n",
    "    return prediction\n",
    "\n"
   ]
  },
  {
   "cell_type": "code",
   "execution_count": 2,
   "id": "2e25f296",
   "metadata": {},
   "outputs": [
    {
     "ename": "NameError",
     "evalue": "name 'plt' is not defined",
     "output_type": "error",
     "traceback": [
      "\u001b[0;31m---------------------------------------------------------------------------\u001b[0m",
      "\u001b[0;31mNameError\u001b[0m                                 Traceback (most recent call last)",
      "\u001b[0;32m/tmp/ipykernel_54604/3568619024.py\u001b[0m in \u001b[0;36m<module>\u001b[0;34m\u001b[0m\n\u001b[0;32m----> 1\u001b[0;31m \u001b[0mplt\u001b[0m\u001b[0;34m.\u001b[0m\u001b[0mimshow\u001b[0m\u001b[0;34m(\u001b[0m\u001b[0mplt\u001b[0m\u001b[0;34m.\u001b[0m\u001b[0mimread\u001b[0m\u001b[0;34m(\u001b[0m\u001b[0;34m\"pictures/SanFransisco.png\"\u001b[0m\u001b[0;34m)\u001b[0m\u001b[0;34m)\u001b[0m\u001b[0;34m\u001b[0m\u001b[0;34m\u001b[0m\u001b[0m\n\u001b[0m\u001b[1;32m      2\u001b[0m \u001b[0;31m#There is ship in the image below\u001b[0m\u001b[0;34m\u001b[0m\u001b[0;34m\u001b[0m\u001b[0;34m\u001b[0m\u001b[0m\n",
      "\u001b[0;31mNameError\u001b[0m: name 'plt' is not defined"
     ]
    }
   ],
   "source": [
    "plt.imshow(plt.imread(\"pictures/SanFransisco.png\"))\n",
    "#There is ship in the image below"
   ]
  },
  {
   "cell_type": "code",
   "execution_count": null,
   "id": "70299688",
   "metadata": {},
   "outputs": [],
   "source": [
    "predictor(\"pictures/SanFransisco.png\",model,3)\n",
    "# Our model can truely detect the ship as in the picture above"
   ]
  },
  {
   "cell_type": "code",
   "execution_count": null,
   "id": "29e44898",
   "metadata": {},
   "outputs": [],
   "source": [
    "predictor(\"pictures/SanFransisco.png\",hog_model,1)\n",
    "# Our model can truely detect the ship as in the picture above"
   ]
  },
  {
   "cell_type": "code",
   "execution_count": 3,
   "id": "fcc93b8d",
   "metadata": {},
   "outputs": [
    {
     "ename": "NameError",
     "evalue": "name 'plt' is not defined",
     "output_type": "error",
     "traceback": [
      "\u001b[0;31m---------------------------------------------------------------------------\u001b[0m",
      "\u001b[0;31mNameError\u001b[0m                                 Traceback (most recent call last)",
      "\u001b[0;32m/tmp/ipykernel_54604/4161342950.py\u001b[0m in \u001b[0;36m<module>\u001b[0;34m\u001b[0m\n\u001b[0;32m----> 1\u001b[0;31m \u001b[0mplt\u001b[0m\u001b[0;34m.\u001b[0m\u001b[0mimshow\u001b[0m\u001b[0;34m(\u001b[0m\u001b[0mplt\u001b[0m\u001b[0;34m.\u001b[0m\u001b[0mimread\u001b[0m\u001b[0;34m(\u001b[0m\u001b[0;34m\"pictures/TampaBay.jpg\"\u001b[0m\u001b[0;34m)\u001b[0m\u001b[0;34m)\u001b[0m\u001b[0;34m\u001b[0m\u001b[0;34m\u001b[0m\u001b[0m\n\u001b[0m\u001b[1;32m      2\u001b[0m \u001b[0;31m#There is ship in the image below\u001b[0m\u001b[0;34m\u001b[0m\u001b[0;34m\u001b[0m\u001b[0;34m\u001b[0m\u001b[0m\n",
      "\u001b[0;31mNameError\u001b[0m: name 'plt' is not defined"
     ]
    }
   ],
   "source": [
    "plt.imshow(plt.imread(\"pictures/Boston.jpg\"))\n",
    "#There is ship in the image below"
   ]
  },
  {
   "cell_type": "code",
   "execution_count": null,
   "id": "5807767e",
   "metadata": {},
   "outputs": [],
   "source": [
    "predictor(\"pictures/Boston.jpg\",model,3)\n",
    "# Our model can truely detect the ship as in the picture above"
   ]
  },
  {
   "cell_type": "code",
   "execution_count": null,
   "id": "9b1d77e2",
   "metadata": {},
   "outputs": [],
   "source": [
    "predictor(\"pictures/Boston.jpg\",hog_model,1)\n",
    "# Our model can truely detect the ship as in the picture above"
   ]
  },
  {
   "cell_type": "code",
   "execution_count": null,
   "id": "fdbafe25",
   "metadata": {},
   "outputs": [],
   "source": [
    "t.imshow(plt.imread(\"pictures/NewYork.jpg\"))\n",
    "#There is ship in the image below"
   ]
  },
  {
   "cell_type": "code",
   "execution_count": null,
   "id": "152e27eb",
   "metadata": {},
   "outputs": [],
   "source": [
    "predictor(\"pictures/NewYork.jpg\",model,3)\n",
    "# Our model can truely detect the ship as in the picture above"
   ]
  },
  {
   "cell_type": "code",
   "execution_count": null,
   "id": "13f91666",
   "metadata": {},
   "outputs": [],
   "source": [
    "predictor(\"pictures/NewYork.jpg\",hog_model,1)\n",
    "# Our model can truely detect the ship as in the picture above"
   ]
  }
 ],
 "metadata": {
  "kernelspec": {
   "display_name": "Python 3 (ipykernel)",
   "language": "python",
   "name": "python3"
  },
  "language_info": {
   "codemirror_mode": {
    "name": "ipython",
    "version": 3
   },
   "file_extension": ".py",
   "mimetype": "text/x-python",
   "name": "python",
   "nbconvert_exporter": "python",
   "pygments_lexer": "ipython3",
   "version": "3.7.5"
  }
 },
 "nbformat": 4,
 "nbformat_minor": 5
}
