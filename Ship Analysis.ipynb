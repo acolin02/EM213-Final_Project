{
 "cells": [
  {
   "cell_type": "markdown",
   "id": "19991df2",
   "metadata": {},
   "source": [
    "## Required Modules"
   ]
  },
  {
   "cell_type": "code",
   "execution_count": 21,
   "id": "ef43e2f6",
   "metadata": {},
   "outputs": [
    {
     "ename": "ModuleNotFoundError",
     "evalue": "No module named 'keras'",
     "output_type": "error",
     "traceback": [
      "\u001b[1;31m---------------------------------------------------------------------------\u001b[0m",
      "\u001b[1;31mModuleNotFoundError\u001b[0m                       Traceback (most recent call last)",
      "\u001b[1;32m<ipython-input-21-68d2b6612b60>\u001b[0m in \u001b[0;36m<module>\u001b[1;34m\u001b[0m\n\u001b[0;32m      7\u001b[0m \u001b[1;32mimport\u001b[0m \u001b[0mnumpy\u001b[0m \u001b[1;32mas\u001b[0m \u001b[0mnp\u001b[0m\u001b[1;33m\u001b[0m\u001b[1;33m\u001b[0m\u001b[0m\n\u001b[0;32m      8\u001b[0m \u001b[1;32mimport\u001b[0m \u001b[0mpandas\u001b[0m \u001b[1;32mas\u001b[0m \u001b[0mpd\u001b[0m\u001b[1;33m\u001b[0m\u001b[1;33m\u001b[0m\u001b[0m\n\u001b[1;32m----> 9\u001b[1;33m \u001b[1;32mimport\u001b[0m \u001b[0mkeras\u001b[0m\u001b[1;33m\u001b[0m\u001b[1;33m\u001b[0m\u001b[0m\n\u001b[0m\u001b[0;32m     10\u001b[0m \u001b[1;32mfrom\u001b[0m \u001b[0mkeras\u001b[0m\u001b[1;33m.\u001b[0m\u001b[0mmodels\u001b[0m \u001b[1;32mimport\u001b[0m \u001b[0mSequential\u001b[0m\u001b[1;33m\u001b[0m\u001b[1;33m\u001b[0m\u001b[0m\n\u001b[0;32m     11\u001b[0m \u001b[1;32mfrom\u001b[0m \u001b[0mkeras\u001b[0m\u001b[1;33m.\u001b[0m\u001b[0mlayers\u001b[0m \u001b[1;32mimport\u001b[0m \u001b[0mDense\u001b[0m\u001b[1;33m,\u001b[0m \u001b[0mFlatten\u001b[0m\u001b[1;33m,\u001b[0m \u001b[0mActivation\u001b[0m\u001b[1;33m\u001b[0m\u001b[1;33m\u001b[0m\u001b[0m\n",
      "\u001b[1;31mModuleNotFoundError\u001b[0m: No module named 'keras'"
     ]
    }
   ],
   "source": [
    "import os\n",
    "from zipfile import ZipFile\n",
    "import pickle\n",
    "import bz2\n",
    "import json\n",
    "\n",
    "import numpy as np\n",
    "import pandas as pd\n",
    "import keras\n",
    "from keras.models import Sequential\n",
    "from keras.layers import Dense, Flatten, Activation\n",
    "from keras.layers import Dropout\n",
    "from keras import regularizers\n",
    "from keras import optimizers\n",
    "from sklearn.model_selection import train_test_split\n",
    "from matplotlib import pyplot as plt\n",
    "from sklearn.decomposition import PCA\n",
    "from keras.utils import to_categorical"
   ]
  },
  {
   "cell_type": "markdown",
   "id": "910da1ad",
   "metadata": {},
   "source": [
    "## Set Global Filepaths and Methods"
   ]
  },
  {
   "cell_type": "code",
   "execution_count": 17,
   "id": "21e5d4ef",
   "metadata": {},
   "outputs": [],
   "source": [
    "# expected file paths\n",
    "DATA_ROOT_DIRECTORY: str = 'data'\n",
    "COMPRESSED_DATA_DIRECTORY_PATH: str = os.path.join(DATA_ROOT_DIRECTORY, 'compressed')\n",
    "COMPRESSED_MANIFEST_FILE_PATH: str = os.path.join(COMPRESSED_DATA_DIRECTORY_PATH, 'shipnet_manifest.pbz2')\n",
    "COMPRESSED_IMAGES_FILE_PATH: str = os.path.join(COMPRESSED_DATA_DIRECTORY_PATH, 'shipnet_images.zip')\n",
    "\n",
    "# file paths to create\n",
    "UNCOMPRESSED_DATA_DIRECTORY_PATH: str = os.path.join(DATA_ROOT_DIRECTORY, 'uncompressed')\n",
    "UNCOMPRESSED_MANIFEST_FILE_PATH: str = os.path.join(UNCOMPRESSED_DATA_DIRECTORY_PATH, 'shipnet.json')\n",
    "UNCOMPRESSED_IMAGES_DIRECTORY_PATH: str = os.path.join(UNCOMPRESSED_DATA_DIRECTORY_PATH, 'shipnet')\n",
    "    \n",
    "def get_full_path(local_path: str):\n",
    "    \"\"\"\n",
    "    Gets the full path from the local path.\n",
    "\n",
    "    :param local_path: a string pointing to a path local to this Notebook\n",
    "    :returns: a string pointing to the full path corresponding to the provided local path\n",
    "    \"\"\"\n",
    "    return os.path.join(os.getcwd(), local_path)\n",
    "\n",
    "def raise_file_not_found_error_for_path(expected_object: str, local_path: str):\n",
    "    \"\"\"\n",
    "    Raises a descriptive file not found error using the provided\n",
    "\n",
    "    :param expected_object: a string fragment describing the content of the expected file\n",
    "    :param local_path: the path that was not found\n",
    "    :return: None.\n",
    "    :raises FileNotFoundError\n",
    "    \"\"\"\n",
    "    raise FileNotFoundError(f'Could not find {expected_object} at the specified path: {get_full_path(local_path)}')"
   ]
  },
  {
   "cell_type": "markdown",
   "id": "b20c4b22",
   "metadata": {},
   "source": [
    "## Unzipping Data \n",
    "\n",
    "We need to compress the data in order to store it in GitHub. \n",
    "\n",
    "We will use the following modules:\n",
    " - __zipfile__ to decompress the archive of the training images\n",
    " - __pickle__ and __bz2__ to decompress the JSON object containing the manifest of images and their lables\n",
    " - __os__ to handle filepath and directory manipulation\n",
    " - __json__ to read / write JSON manifest\n",
    " "
   ]
  },
  {
   "cell_type": "code",
   "execution_count": 19,
   "id": "df34f709",
   "metadata": {},
   "outputs": [],
   "source": [
    "def deflate_manifest():\n",
    "    \"\"\"\n",
    "    Deflates the compressed manifest file using bz2 decompression. Note this will create a ~350 MB file in the\n",
    "    UNCOMPRESSED_DATA_DIRECTORY_PATH.\n",
    "\n",
    "    :return: None.\n",
    "    \"\"\"\n",
    "    with bz2.BZ2File(COMPRESSED_MANIFEST_FILE_PATH, 'rb') as input_file:\n",
    "        with open(UNCOMPRESSED_MANIFEST_FILE_PATH, 'w') as output_file:\n",
    "            json.dump(pickle.load(input_file), output_file)\n",
    "    return None\n",
    "\n",
    "\n",
    "def deflate_images():\n",
    "    \"\"\"\n",
    "    Deflates the compressed images file using zip decompression. Note this will create 4000 images in the\n",
    "    UNCOMPRESSED_IMAGES_DIRECTORY_PATH directory.\n",
    "\n",
    "    :return: None.\n",
    "    \"\"\"\n",
    "    with ZipFile(COMPRESSED_IMAGES_FILE_PATH, 'r') as input_file:\n",
    "        input_file.extractall(UNCOMPRESSED_IMAGES_DIRECTORY_PATH)\n",
    "    return None\n",
    "\n",
    "\n",
    "def check_and_deflate_all():\n",
    "    \"\"\"\n",
    "    Checks for expected input files and a non-existent UNCOMPRESSED_DATA_DIRECTORY_PATH directory, then\n",
    "    deflates the manifest and images. \n",
    "\n",
    "    :raises FileNotFoundError if expected input files are not found\n",
    "    :raises FileExistsError if UNCOMPRESSED_DATA_DIRECTORY_PATH exists\n",
    "    :returns: None.\n",
    "    \"\"\"\n",
    "\n",
    "    # check if compressed data directory exists\n",
    "    if os.path.isdir(COMPRESSED_DATA_DIRECTORY_PATH):\n",
    "\n",
    "        # if so, check for compressed manifest file\n",
    "        if not os.path.isfile(COMPRESSED_MANIFEST_FILE_PATH):\n",
    "            raise_file_not_found_error_for_path('the compressed manifest file', COMPRESSED_MANIFEST_FILE_PATH)\n",
    "\n",
    "        # and compressed images file\n",
    "        if not os.path.isfile(COMPRESSED_IMAGES_FILE_PATH):\n",
    "            raise_file_not_found_error_for_path('the compressed images file', COMPRESSED_IMAGES_FILE_PATH)\n",
    "\n",
    "    else:\n",
    "        raise raise_file_not_found_error_for_path('the compressed data directory', COMPRESSED_DATA_DIRECTORY_PATH)\n",
    "\n",
    "    # check if uncompressed data directory exists\n",
    "    if os.path.isdir(UNCOMPRESSED_DATA_DIRECTORY_PATH):\n",
    "        raise FileExistsError(('The path to the output directory already exists: '\n",
    "                               f'{get_full_path(UNCOMPRESSED_DATA_DIRECTORY_PATH)}. If you are sure you want to run this step '\n",
    "                               'please remove this directory manually - we will not overwrite it.'))\n",
    "\n",
    "    # inflate files\n",
    "    else:\n",
    "        os.mkdir(UNCOMPRESSED_DATA_DIRECTORY_PATH)\n",
    "        deflate_manifest()\n",
    "        deflate_images()\n",
    "\n",
    "    return None"
   ]
  },
  {
   "cell_type": "code",
   "execution_count": 20,
   "id": "5d45958f",
   "metadata": {},
   "outputs": [
    {
     "ename": "FileExistsError",
     "evalue": "The path to the output directory already exists: C:\\Users\\Kevin\\Desktop\\EM213-Final_Project\\data\\uncompressed. If you are sure you want to run this step please remove this directory manually - we will not overwrite it.",
     "output_type": "error",
     "traceback": [
      "\u001b[1;31m---------------------------------------------------------------------------\u001b[0m",
      "\u001b[1;31mFileExistsError\u001b[0m                           Traceback (most recent call last)",
      "\u001b[1;32m<ipython-input-20-421c490ca4dc>\u001b[0m in \u001b[0;36m<module>\u001b[1;34m\u001b[0m\n\u001b[1;32m----> 1\u001b[1;33m \u001b[0mcheck_and_deflate_all\u001b[0m\u001b[1;33m(\u001b[0m\u001b[1;33m)\u001b[0m\u001b[1;33m\u001b[0m\u001b[1;33m\u001b[0m\u001b[0m\n\u001b[0m",
      "\u001b[1;32m<ipython-input-19-6282f7f99b13>\u001b[0m in \u001b[0;36mcheck_and_deflate_all\u001b[1;34m()\u001b[0m\n\u001b[0;32m     50\u001b[0m     \u001b[1;31m# check if uncompressed data directory exists\u001b[0m\u001b[1;33m\u001b[0m\u001b[1;33m\u001b[0m\u001b[1;33m\u001b[0m\u001b[0m\n\u001b[0;32m     51\u001b[0m     \u001b[1;32mif\u001b[0m \u001b[0mos\u001b[0m\u001b[1;33m.\u001b[0m\u001b[0mpath\u001b[0m\u001b[1;33m.\u001b[0m\u001b[0misdir\u001b[0m\u001b[1;33m(\u001b[0m\u001b[0mUNCOMPRESSED_DATA_DIRECTORY_PATH\u001b[0m\u001b[1;33m)\u001b[0m\u001b[1;33m:\u001b[0m\u001b[1;33m\u001b[0m\u001b[1;33m\u001b[0m\u001b[0m\n\u001b[1;32m---> 52\u001b[1;33m         raise FileExistsError(('The path to the output directory already exists: '\n\u001b[0m\u001b[0;32m     53\u001b[0m                                \u001b[1;34mf'{get_full_path(UNCOMPRESSED_DATA_DIRECTORY_PATH)}. If you are sure you want to run this step '\u001b[0m\u001b[1;33m\u001b[0m\u001b[1;33m\u001b[0m\u001b[0m\n\u001b[0;32m     54\u001b[0m                                'please remove this directory manually - we will not overwrite it.'))\n",
      "\u001b[1;31mFileExistsError\u001b[0m: The path to the output directory already exists: C:\\Users\\Kevin\\Desktop\\EM213-Final_Project\\data\\uncompressed. If you are sure you want to run this step please remove this directory manually - we will not overwrite it."
     ]
    }
   ],
   "source": [
    "check_and_deflate_all()"
   ]
  },
  {
   "cell_type": "markdown",
   "id": "a0059cac",
   "metadata": {},
   "source": [
    "## Load & Visually Inspect Data \n",
    "   - Note the previous step only needs to be run once to generate __/data/uncompressed__. \n",
    "   - In this step we will read in the data and check it against the manifest.\n",
    " "
   ]
  },
  {
   "cell_type": "code",
   "execution_count": null,
   "id": "ff198981",
   "metadata": {},
   "outputs": [],
   "source": []
  }
 ],
 "metadata": {
  "kernelspec": {
   "display_name": "Python 3",
   "language": "python",
   "name": "python3"
  },
  "language_info": {
   "codemirror_mode": {
    "name": "ipython",
    "version": 3
   },
   "file_extension": ".py",
   "mimetype": "text/x-python",
   "name": "python",
   "nbconvert_exporter": "python",
   "pygments_lexer": "ipython3",
   "version": "3.8.8"
  }
 },
 "nbformat": 4,
 "nbformat_minor": 5
}
