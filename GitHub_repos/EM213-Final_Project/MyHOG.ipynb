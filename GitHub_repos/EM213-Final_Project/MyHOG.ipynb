{
 "cells": [
  {
   "cell_type": "code",
   "execution_count": 3,
   "id": "e9a593cd",
   "metadata": {},
   "outputs": [
    {
     "name": "stderr",
     "output_type": "stream",
     "text": [
      "2021-12-15 12:01:47.133560: I tensorflow/stream_executor/platform/default/dso_loader.cc:49] Successfully opened dynamic library libcudart.so.10.1\n"
     ]
    }
   ],
   "source": [
    "# Uploading the packages we'll need\n",
    "import os\n",
    "from zipfile import ZipFile\n",
    "import pickle\n",
    "import bz2\n",
    "import json\n",
    "\n",
    "import numpy.testing as npt\n",
    "\n",
    "import pandas as pd\n",
    "import numpy as np\n",
    "\n",
    "import json\n",
    "\n",
    "import tensorflow as tf\n",
    "from tensorflow import keras\n",
    "from tensorflow.keras.models import Sequential\n",
    "from tensorflow.keras.layers import Conv2D, MaxPooling2D, AveragePooling2D, Flatten, Dense, Dropout, Activation\n",
    "from keras.utils.np_utils import to_categorical\n",
    "from keras.optimizers import Adam, SGD\n",
    "\n",
    "from sklearn.model_selection import train_test_split\n",
    "from sklearn.metrics import confusion_matrix\n",
    "from sklearn.metrics import plot_confusion_matrix\n",
    "\n",
    "\n",
    "import seaborn as sns\n",
    "import matplotlib.pyplot as plt\n"
   ]
  },
  {
   "cell_type": "code",
   "execution_count": 4,
   "id": "9bea80ae",
   "metadata": {},
   "outputs": [],
   "source": [
    "# expected file paths\n",
    "DATA_ROOT_DIRECTORY: str = 'data'\n",
    "COMPRESSED_DATA_DIRECTORY_PATH: str = os.path.join(DATA_ROOT_DIRECTORY, 'compressed')\n",
    "COMPRESSED_MANIFEST_FILE_PATH: str = os.path.join(COMPRESSED_DATA_DIRECTORY_PATH, 'shipnet_manifest.pbz2')\n",
    "COMPRESSED_IMAGES_FILE_PATH: str = os.path.join(COMPRESSED_DATA_DIRECTORY_PATH, 'shipnet_images.zip')\n",
    "\n",
    "# file paths to createhttp://localhost:8888/notebooks/Documents/EN213_final/EM213-Final_Project-dev-kms/Ship%20Analysis.ipynb\n",
    "UNCOMPRESSED_DATA_DIRECTORY_PATH: str = os.path.join(DATA_ROOT_DIRECTORY, 'uncompressed')\n",
    "UNCOMPRESSED_MANIFEST_FILE_PATH: str = os.path.join(UNCOMPRESSED_DATA_DIRECTORY_PATH, 'shipnet.json')\n",
    "UNCOMPRESSED_IMAGES_DIRECTORY_PATH: str = os.path.join(UNCOMPRESSED_DATA_DIRECTORY_PATH, 'shipnet')\n",
    "    \n",
    "def get_full_path(local_path: str):\n",
    "    \"\"\"\n",
    "    Gets the full path from the local path.\n",
    "\n",
    "    :param local_path: a string pointing to a path local to this Notebook\n",
    "    :returns: a string pointing to the full path corresponding to the provided local path\n",
    "    \"\"\"\n",
    "    return os.path.join(os.getcwd(), local_path)\n",
    "\n",
    "def raise_file_not_found_error_for_path(expected_object: str, local_path: str):\n",
    "    \"\"\"\n",
    "    Raises a descriptive file not found error using the provided\n",
    "\n",
    "    :param expected_object: a string fragment describing the content of the expected file\n",
    "    :param local_path: the path that was not found\n",
    "    :return: None.\n",
    "    :raises FileNotFoundError\n",
    "    \"\"\"\n",
    "    raise FileNotFoundError(f'Could not find {expected_object} at the specified path: {get_full_path(local_path)}')"
   ]
  },
  {
   "cell_type": "code",
   "execution_count": 5,
   "id": "64510def",
   "metadata": {},
   "outputs": [],
   "source": [
    "def deflate_manifest():\n",
    "    \"\"\"\n",
    "    Deflates the compressed manifest file using bz2 decompression. Note this will create a ~350 MB file in the\n",
    "    UNCOMPRESSED_DATA_DIRECTORY_PATH.\n",
    "\n",
    "    :return: None.\n",
    "    \"\"\"\n",
    "    with bz2.BZ2File(COMPRESSED_MANIFEST_FILE_PATH, 'rb') as input_file:\n",
    "        with open(UNCOMPRESSED_MANIFEST_FILE_PATH, 'w') as output_file:\n",
    "            json.dump(pickle.load(input_file), output_file)\n",
    "    return None\n",
    "\n",
    "\n",
    "def deflate_images():\n",
    "    \"\"\"\n",
    "    Deflates the compressed images file using zip decompression. Note this will create 4000 images in the\n",
    "    UNCOMPRESSED_IMAGES_DIRECTORY_PATH directory.\n",
    "\n",
    "    :return: None.\n",
    "    \"\"\"\n",
    "    with ZipFile(COMPRESSED_IMAGES_FILE_PATH, 'r') as input_file:\n",
    "        input_file.extractall(UNCOMPRESSED_IMAGES_DIRECTORY_PATH)\n",
    "    return None\n",
    "\n",
    "\n",
    "def check_and_deflate_all():\n",
    "    \"\"\"\n",
    "    Checks for expected input files and a non-existent UNCOMPRESSED_DATA_DIRECTORY_PATH directory, then\n",
    "    deflates the manifest and images. \n",
    "\n",
    "    :raises FileNotFoundError if expected input files are not found\n",
    "    :raises FileExistsError if UNCOMPRESSED_DATA_DIRECTORY_PATH exists\n",
    "    :returns: None.\n",
    "    \"\"\"\n",
    "\n",
    "    # check if compressed data directory exists\n",
    "    if os.path.isdir(COMPRESSED_DATA_DIRECTORY_PATH):\n",
    "\n",
    "        # if so, check for compressed manifest file\n",
    "        if not os.path.isfile(COMPRESSED_MANIFEST_FILE_PATH):\n",
    "            raise_file_not_found_error_for_path('the compressed manifest file', COMPRESSED_MANIFEST_FILE_PATH)\n",
    "\n",
    "        # and compressed images file\n",
    "        if not os.path.isfile(COMPRESSED_IMAGES_FILE_PATH):\n",
    "            raise_file_not_found_error_for_path('the compressed images file', COMPRESSED_IMAGES_FILE_PATH)\n",
    "\n",
    "    else:\n",
    "        raise raise_file_not_found_error_for_path('the compressed data directory', COMPRESSED_DATA_DIRECTORY_PATH)\n",
    "\n",
    "    # check if uncompressed data directory exists\n",
    "    if os.path.isdir(UNCOMPRESSED_DATA_DIRECTORY_PATH):\n",
    "        raise FileExistsError(('The path to the output directory already exists: '\n",
    "                               f'{get_full_path(UNCOMPRESSED_DATA_DIRECTORY_PATH)}. If you are sure you want to run this step '\n",
    "                               'please remove this directory manually - we will not overwrite it.'))\n",
    "\n",
    "    # inflate files\n",
    "    else:\n",
    "        os.mkdir(UNCOMPRESSED_DATA_DIRECTORY_PATH)\n",
    "        deflate_manifest()\n",
    "        deflate_images()\n",
    "\n",
    "    return None"
   ]
  },
  {
   "cell_type": "code",
   "execution_count": 6,
   "id": "6733dba7",
   "metadata": {},
   "outputs": [
    {
     "ename": "FileExistsError",
     "evalue": "The path to the output directory already exists: /home/colinalejo/Documents/EN213_final/HOG/data/uncompressed. If you are sure you want to run this step please remove this directory manually - we will not overwrite it.",
     "output_type": "error",
     "traceback": [
      "\u001b[0;31m---------------------------------------------------------------------------\u001b[0m",
      "\u001b[0;31mFileExistsError\u001b[0m                           Traceback (most recent call last)",
      "\u001b[0;32m/tmp/ipykernel_18960/1391290550.py\u001b[0m in \u001b[0;36m<module>\u001b[0;34m\u001b[0m\n\u001b[0;32m----> 1\u001b[0;31m \u001b[0mcheck_and_deflate_all\u001b[0m\u001b[0;34m(\u001b[0m\u001b[0;34m)\u001b[0m\u001b[0;34m\u001b[0m\u001b[0;34m\u001b[0m\u001b[0m\n\u001b[0m",
      "\u001b[0;32m/tmp/ipykernel_18960/3867820348.py\u001b[0m in \u001b[0;36mcheck_and_deflate_all\u001b[0;34m()\u001b[0m\n\u001b[1;32m     50\u001b[0m     \u001b[0;31m# check if uncompressed data directory exists\u001b[0m\u001b[0;34m\u001b[0m\u001b[0;34m\u001b[0m\u001b[0m\n\u001b[1;32m     51\u001b[0m     \u001b[0;32mif\u001b[0m \u001b[0mos\u001b[0m\u001b[0;34m.\u001b[0m\u001b[0mpath\u001b[0m\u001b[0;34m.\u001b[0m\u001b[0misdir\u001b[0m\u001b[0;34m(\u001b[0m\u001b[0mUNCOMPRESSED_DATA_DIRECTORY_PATH\u001b[0m\u001b[0;34m)\u001b[0m\u001b[0;34m:\u001b[0m\u001b[0;34m\u001b[0m\u001b[0;34m\u001b[0m\u001b[0m\n\u001b[0;32m---> 52\u001b[0;31m         raise FileExistsError(('The path to the output directory already exists: '\n\u001b[0m\u001b[1;32m     53\u001b[0m                                \u001b[0;34mf'{get_full_path(UNCOMPRESSED_DATA_DIRECTORY_PATH)}. If you are sure you want to run this step '\u001b[0m\u001b[0;34m\u001b[0m\u001b[0;34m\u001b[0m\u001b[0m\n\u001b[1;32m     54\u001b[0m                                'please remove this directory manually - we will not overwrite it.'))\n",
      "\u001b[0;31mFileExistsError\u001b[0m: The path to the output directory already exists: /home/colinalejo/Documents/EN213_final/HOG/data/uncompressed. If you are sure you want to run this step please remove this directory manually - we will not overwrite it."
     ]
    }
   ],
   "source": [
    "check_and_deflate_all()"
   ]
  },
  {
   "cell_type": "code",
   "execution_count": 15,
   "id": "b09e53d1",
   "metadata": {},
   "outputs": [],
   "source": [
    "# read in the manifest\n",
    "with open(UNCOMPRESSED_MANIFEST_FILE_PATH, 'r') as f:\n",
    "    dataset = json.load(f)\n",
    "\n"
   ]
  },
  {
   "cell_type": "code",
   "execution_count": 16,
   "id": "86815642",
   "metadata": {},
   "outputs": [
    {
     "data": {
      "text/plain": [
       "0    3000\n",
       "1    1000\n",
       "dtype: int64"
      ]
     },
     "execution_count": 16,
     "metadata": {},
     "output_type": "execute_result"
    }
   ],
   "source": [
    "# Turning the json information into a numpy array and then assign it as our X and y values\n",
    "\n",
    "X = np.array(dataset['data']).astype('uint8')\n",
    "y = np.array(dataset['labels']).astype('uint8')\n",
    "\n",
    "# Checking the amount of ship and not a ship labels for the images\n",
    "\n",
    "pd.Series(y).value_counts()"
   ]
  },
  {
   "cell_type": "code",
   "execution_count": 17,
   "id": "0f30ee29",
   "metadata": {},
   "outputs": [],
   "source": [
    "img_length = 80\n",
    "X_reshaped = X.reshape([-1, 3, img_length, img_length]).transpose([0,2,3,1])\n",
    "y_reshaped = to_categorical(y, num_classes=2)\n",
    "#normlaize\n",
    "X_reshaped = X_reshaped / 255\n"
   ]
  },
  {
   "cell_type": "markdown",
   "id": "a52861d5",
   "metadata": {},
   "source": [
    "## Apply RGB2Gray!!"
   ]
  },
  {
   "cell_type": "code",
   "execution_count": 18,
   "id": "ffb807a7",
   "metadata": {},
   "outputs": [],
   "source": [
    "from skimage import color\n",
    "from skimage.feature import hog\n",
    "from skimage.transform import resize"
   ]
  },
  {
   "cell_type": "code",
   "execution_count": 19,
   "id": "c1d56673",
   "metadata": {
    "scrolled": true
   },
   "outputs": [
    {
     "data": {
      "text/plain": [
       "<matplotlib.image.AxesImage at 0x7ff28dffb9d0>"
      ]
     },
     "execution_count": 19,
     "metadata": {},
     "output_type": "execute_result"
    },
    {
     "data": {
      "image/png": "[encoded data removed]",
      "text/plain": [
       "<Figure size 432x288 with 1 Axes>"
      ]
     },
     "metadata": {
      "needs_background": "light"
     },
     "output_type": "display_data"
    }
   ],
   "source": [
    "data_gray = [ color.rgb2gray(i) for i in X_reshaped ]\n",
    "data_gray = np.array(data_gray)\n",
    "plt.imshow(data_gray[1])"
   ]
  },
  {
   "cell_type": "code",
   "execution_count": 20,
   "id": "1ae712de",
   "metadata": {},
   "outputs": [
    {
     "data": {
      "text/plain": [
       "(4000, 80, 80)"
      ]
     },
     "execution_count": 20,
     "metadata": {},
     "output_type": "execute_result"
    }
   ],
   "source": [
    "data_gray.shape"
   ]
  },
  {
   "cell_type": "markdown",
   "id": "6b6dc90b",
   "metadata": {},
   "source": [
    "## Apply HOG!!"
   ]
  },
  {
   "cell_type": "code",
   "execution_count": 21,
   "id": "0b9aaedf",
   "metadata": {},
   "outputs": [],
   "source": [
    "ppc = 16\n",
    "hog_images = []\n",
    "hog_features = []\n",
    "for image in data_gray:\n",
    "    fd,hog_image = hog(image, orientations=8, pixels_per_cell=(ppc,ppc),cells_per_block=(4, 4),block_norm= 'L2',visualize=True)\n",
    "    hog_images.append(hog_image)\n",
    "    hog_features.append(fd)"
   ]
  },
  {
   "cell_type": "code",
   "execution_count": 22,
   "id": "44642d89",
   "metadata": {
    "scrolled": true
   },
   "outputs": [],
   "source": [
    "hog_images = np.array(hog_images)\n",
    "hog_features = np.array(hog_features)\n",
    "                 \n",
    "                 "
   ]
  },
  {
   "cell_type": "code",
   "execution_count": 23,
   "id": "2f742c5e",
   "metadata": {},
   "outputs": [
    {
     "data": {
      "text/plain": [
       "(4000, 80, 80)"
      ]
     },
     "execution_count": 23,
     "metadata": {},
     "output_type": "execute_result"
    }
   ],
   "source": [
    "hog_images.shape"
   ]
  },
  {
   "cell_type": "code",
   "execution_count": 24,
   "id": "4434adf7",
   "metadata": {},
   "outputs": [
    {
     "data": {
      "text/plain": [
       "<matplotlib.image.AxesImage at 0x7ff28c6ba280>"
      ]
     },
     "execution_count": 24,
     "metadata": {},
     "output_type": "execute_result"
    },
    {
     "data": {
      "image/png": "[encoded data removed]",
      "text/plain": [
       "<Figure size 432x288 with 1 Axes>"
      ]
     },
     "metadata": {
      "needs_background": "light"
     },
     "output_type": "display_data"
    }
   ],
   "source": [
    "plt.axis(\"off\")\n",
    "plt.imshow(hog_images[1], cmap=\"gray\")"
   ]
  },
  {
   "cell_type": "markdown",
   "id": "76cc13ab",
   "metadata": {},
   "source": [
    "## Implement Hog and RGB images with KERAS to compare"
   ]
  },
  {
   "cell_type": "code",
   "execution_count": 25,
   "id": "6d5bae14",
   "metadata": {},
   "outputs": [],
   "source": [
    "#HOG\n",
    "# Doing the initial train/test split on the reshaped values\n",
    "hog_X_train_full, hog_X_test, hog_y_train_full, hog_y_test = train_test_split(hog_images, y_reshaped, test_size=0.20, random_state=42)\n",
    "\n",
    "# Creating the validation set\n",
    "hog_X_train, hog_X_val, hog_y_train, hog_y_val = train_test_split(hog_X_train_full, hog_y_train_full, test_size=0.25, random_state=42)\n",
    "\n",
    "\n",
    "#RGB\n",
    "# Doing the initial train/test split on the reshaped values\n",
    "X_train_full, X_test, y_train_full, y_test = train_test_split(X_reshaped, y_reshaped, test_size=0.20, random_state=42)\n",
    "\n",
    "# Creating the validation set\n",
    "X_train, X_val, y_train, y_val = train_test_split(X_train_full, y_train_full, test_size=0.25, random_state=42)"
   ]
  },
  {
   "cell_type": "code",
   "execution_count": 26,
   "id": "468eb0a9",
   "metadata": {},
   "outputs": [
    {
     "data": {
      "text/plain": [
       "(2400, 2)"
      ]
     },
     "execution_count": 26,
     "metadata": {},
     "output_type": "execute_result"
    }
   ],
   "source": [
    "hog_y_train.shape"
   ]
  },
  {
   "cell_type": "code",
   "execution_count": 27,
   "id": "00345392",
   "metadata": {},
   "outputs": [],
   "source": [
    "hog_X_test  = hog_X_test.reshape(-1, 80, 80, 1)\n",
    "hog_X_train = hog_X_train.reshape(-1, 80, 80, 1)\n",
    "hog_X_val   = hog_X_val.reshape(-1, 80, 80, 1)"
   ]
  },
  {
   "cell_type": "code",
   "execution_count": 28,
   "id": "a135bf82",
   "metadata": {},
   "outputs": [
    {
     "data": {
      "text/plain": [
       "(2400, 80, 80, 1)"
      ]
     },
     "execution_count": 28,
     "metadata": {},
     "output_type": "execute_result"
    }
   ],
   "source": [
    "hog_X_train.shape"
   ]
  },
  {
   "cell_type": "markdown",
   "id": "5ee26020",
   "metadata": {},
   "source": [
    "##### First model with Hog"
   ]
  },
  {
   "cell_type": "code",
   "execution_count": 29,
   "id": "ed60086a",
   "metadata": {},
   "outputs": [],
   "source": [
    "# Using a 5x5 kernel and a pooling size of 3x3 at the start of the sequence\n",
    "\n",
    "# Increasing the number of nodes in the first convolution layer \n",
    "\n",
    "# Increasing the pool size in the first pool layer\n",
    "\n",
    "# Adding an extra convolutional layer + drop out layers to prevent over fitting\n",
    "\n",
    "# Adding an extra dense layer of 50 neurons towards the end\n",
    "\n",
    "# Increasing the epochs to 50\n",
    "\n",
    "# Setting my computer on fire\n",
    "\n",
    "hog_model = Sequential()\n",
    "hog_model.add(Conv2D(64, (5, 5), input_shape=(80, 80,1), activation='relu')) #remove rgb 3 matrix\n",
    "hog_model.add(MaxPooling2D(pool_size=(3, 3)))\n",
    "hog_model.add(Dropout(0.25))\n",
    "hog_model.add(Conv2D(32, (3, 3), input_shape=(80, 80,1), activation='relu')) #remove rgb 3 matrix\n",
    "hog_model.add(MaxPooling2D(pool_size=(2, 2)))\n",
    "hog_model.add(Dropout(0.25))\n",
    "hog_model.add(Conv2D(32, (3, 3), input_shape=(80, 80,1), activation='relu')) #remove rgb 3 matrix\n",
    "hog_model.add(MaxPooling2D(pool_size=(2, 2)))\n",
    "hog_model.add(Flatten())\n",
    "hog_model.add(Dense(100, activation='relu'))\n",
    "hog_model.add(Dropout(0.25))\n",
    "hog_model.add(Dense(100, activation='relu'))\n",
    "hog_model.add(Dropout(0.25))\n",
    "hog_model.add(Dense(50, activation='relu'))\n",
    "hog_model.add(Dropout(0.25))\n",
    "hog_model.add(Dense(2, activation='softmax'))\n",
    "\n",
    "hog_model.compile(loss='categorical_crossentropy', optimizer='Adam', metrics=['accuracy'])\n",
    "\n"
   ]
  },
  {
   "cell_type": "code",
   "execution_count": 30,
   "id": "ca4499e8",
   "metadata": {
    "scrolled": true
   },
   "outputs": [
    {
     "name": "stderr",
     "output_type": "stream",
     "text": [
      "2021-12-15 12:02:42.970743: I tensorflow/compiler/mlir/mlir_graph_optimization_pass.cc:116] None of the MLIR optimization passes are enabled (registered 2)\n",
      "2021-12-15 12:02:42.987851: I tensorflow/core/platform/profile_utils/cpu_utils.cc:112] CPU Frequency: 2599990000 Hz\n"
     ]
    },
    {
     "name": "stdout",
     "output_type": "stream",
     "text": [
      "Epoch 1/50\n",
      "75/75 [==============================] - 8s 103ms/step - loss: 0.5988 - accuracy: 0.7538 - val_loss: 0.5267 - val_accuracy: 0.7513\n",
      "Epoch 2/50\n",
      "75/75 [==============================] - 8s 102ms/step - loss: 0.4151 - accuracy: 0.7888 - val_loss: 0.2556 - val_accuracy: 0.8775\n",
      "Epoch 3/50\n",
      "75/75 [==============================] - 7s 99ms/step - loss: 0.2177 - accuracy: 0.9116 - val_loss: 0.2228 - val_accuracy: 0.8788\n",
      "Epoch 4/50\n",
      "75/75 [==============================] - 8s 111ms/step - loss: 0.1797 - accuracy: 0.9172 - val_loss: 0.1962 - val_accuracy: 0.9200\n",
      "Epoch 5/50\n",
      "75/75 [==============================] - 7s 97ms/step - loss: 0.1568 - accuracy: 0.9330 - val_loss: 0.2199 - val_accuracy: 0.9275\n",
      "Epoch 6/50\n",
      "75/75 [==============================] - 7s 95ms/step - loss: 0.1557 - accuracy: 0.9426 - val_loss: 0.1320 - val_accuracy: 0.9525\n",
      "Epoch 7/50\n",
      "75/75 [==============================] - 7s 96ms/step - loss: 0.1167 - accuracy: 0.9570 - val_loss: 0.1217 - val_accuracy: 0.9500\n",
      "Epoch 8/50\n",
      "75/75 [==============================] - 8s 101ms/step - loss: 0.1031 - accuracy: 0.9650 - val_loss: 0.1134 - val_accuracy: 0.9575\n",
      "Epoch 9/50\n",
      "75/75 [==============================] - 8s 104ms/step - loss: 0.0809 - accuracy: 0.9643 - val_loss: 0.1262 - val_accuracy: 0.9488\n",
      "Epoch 10/50\n",
      "75/75 [==============================] - 8s 103ms/step - loss: 0.0975 - accuracy: 0.9644 - val_loss: 0.1349 - val_accuracy: 0.9463\n",
      "Epoch 11/50\n",
      "75/75 [==============================] - 7s 100ms/step - loss: 0.0861 - accuracy: 0.9707 - val_loss: 0.1451 - val_accuracy: 0.9413\n",
      "Epoch 12/50\n",
      "75/75 [==============================] - 8s 102ms/step - loss: 0.0910 - accuracy: 0.9577 - val_loss: 0.1012 - val_accuracy: 0.9588\n",
      "Epoch 13/50\n",
      "75/75 [==============================] - 8s 100ms/step - loss: 0.0897 - accuracy: 0.9609 - val_loss: 0.0963 - val_accuracy: 0.9575\n",
      "Epoch 14/50\n",
      "75/75 [==============================] - 7s 97ms/step - loss: 0.0775 - accuracy: 0.9690 - val_loss: 0.0958 - val_accuracy: 0.9650\n",
      "Epoch 15/50\n",
      "75/75 [==============================] - 7s 96ms/step - loss: 0.0713 - accuracy: 0.9697 - val_loss: 0.1152 - val_accuracy: 0.9600\n",
      "Epoch 16/50\n",
      "75/75 [==============================] - 7s 96ms/step - loss: 0.0674 - accuracy: 0.9727 - val_loss: 0.1315 - val_accuracy: 0.9563\n",
      "Epoch 17/50\n",
      "75/75 [==============================] - 7s 95ms/step - loss: 0.0665 - accuracy: 0.9738 - val_loss: 0.1030 - val_accuracy: 0.9613\n",
      "Epoch 18/50\n",
      "75/75 [==============================] - 7s 97ms/step - loss: 0.0583 - accuracy: 0.9792 - val_loss: 0.0960 - val_accuracy: 0.9625\n",
      "Epoch 19/50\n",
      "75/75 [==============================] - 7s 95ms/step - loss: 0.0560 - accuracy: 0.9795 - val_loss: 0.1086 - val_accuracy: 0.9613\n",
      "Epoch 20/50\n",
      "75/75 [==============================] - 7s 96ms/step - loss: 0.0451 - accuracy: 0.9851 - val_loss: 0.0939 - val_accuracy: 0.9613\n",
      "Epoch 21/50\n",
      "75/75 [==============================] - 7s 100ms/step - loss: 0.0609 - accuracy: 0.9775 - val_loss: 0.1118 - val_accuracy: 0.9613\n",
      "Epoch 22/50\n",
      "75/75 [==============================] - 8s 102ms/step - loss: 0.0595 - accuracy: 0.9801 - val_loss: 0.0934 - val_accuracy: 0.9675\n",
      "Epoch 23/50\n",
      "75/75 [==============================] - 8s 103ms/step - loss: 0.0583 - accuracy: 0.9779 - val_loss: 0.1022 - val_accuracy: 0.9625\n",
      "Epoch 24/50\n",
      "75/75 [==============================] - 8s 101ms/step - loss: 0.0565 - accuracy: 0.9823 - val_loss: 0.0875 - val_accuracy: 0.9688\n",
      "Epoch 25/50\n",
      "75/75 [==============================] - 8s 101ms/step - loss: 0.0483 - accuracy: 0.9813 - val_loss: 0.1005 - val_accuracy: 0.9663\n",
      "Epoch 26/50\n",
      "75/75 [==============================] - 8s 101ms/step - loss: 0.0385 - accuracy: 0.9898 - val_loss: 0.0933 - val_accuracy: 0.9688\n",
      "Epoch 27/50\n",
      "75/75 [==============================] - 8s 101ms/step - loss: 0.0430 - accuracy: 0.9840 - val_loss: 0.0823 - val_accuracy: 0.9638\n",
      "Epoch 28/50\n",
      "75/75 [==============================] - 8s 103ms/step - loss: 0.0489 - accuracy: 0.9813 - val_loss: 0.0806 - val_accuracy: 0.9675\n",
      "Epoch 29/50\n",
      "75/75 [==============================] - 7s 99ms/step - loss: 0.0341 - accuracy: 0.9853 - val_loss: 0.0848 - val_accuracy: 0.9725\n",
      "Epoch 30/50\n",
      "75/75 [==============================] - 7s 98ms/step - loss: 0.0499 - accuracy: 0.9821 - val_loss: 0.0935 - val_accuracy: 0.9663\n",
      "Epoch 31/50\n",
      "75/75 [==============================] - 7s 98ms/step - loss: 0.0336 - accuracy: 0.9866 - val_loss: 0.1001 - val_accuracy: 0.9712\n",
      "Epoch 32/50\n",
      "75/75 [==============================] - 7s 99ms/step - loss: 0.0386 - accuracy: 0.9861 - val_loss: 0.0982 - val_accuracy: 0.9675\n",
      "Epoch 33/50\n",
      "75/75 [==============================] - 8s 102ms/step - loss: 0.0409 - accuracy: 0.9865 - val_loss: 0.0867 - val_accuracy: 0.9675\n",
      "Epoch 34/50\n",
      "75/75 [==============================] - 7s 100ms/step - loss: 0.0532 - accuracy: 0.9821 - val_loss: 0.0789 - val_accuracy: 0.9700\n",
      "Epoch 35/50\n",
      "75/75 [==============================] - 8s 102ms/step - loss: 0.0367 - accuracy: 0.9850 - val_loss: 0.0901 - val_accuracy: 0.9675\n",
      "Epoch 36/50\n",
      "75/75 [==============================] - 8s 104ms/step - loss: 0.0479 - accuracy: 0.9804 - val_loss: 0.0955 - val_accuracy: 0.9638\n",
      "Epoch 37/50\n",
      "75/75 [==============================] - 8s 105ms/step - loss: 0.0296 - accuracy: 0.9886 - val_loss: 0.0762 - val_accuracy: 0.9725\n",
      "Epoch 38/50\n",
      "75/75 [==============================] - 7s 95ms/step - loss: 0.0298 - accuracy: 0.9881 - val_loss: 0.0910 - val_accuracy: 0.9650\n",
      "Epoch 39/50\n",
      "75/75 [==============================] - 7s 93ms/step - loss: 0.0423 - accuracy: 0.9840 - val_loss: 0.0875 - val_accuracy: 0.9675\n",
      "Epoch 40/50\n",
      "75/75 [==============================] - 7s 93ms/step - loss: 0.0345 - accuracy: 0.9864 - val_loss: 0.0832 - val_accuracy: 0.9700\n",
      "Epoch 41/50\n",
      "75/75 [==============================] - 7s 98ms/step - loss: 0.0314 - accuracy: 0.9892 - val_loss: 0.1236 - val_accuracy: 0.9575\n",
      "Epoch 42/50\n",
      "75/75 [==============================] - 8s 100ms/step - loss: 0.0487 - accuracy: 0.9878 - val_loss: 0.1057 - val_accuracy: 0.9663\n",
      "Epoch 43/50\n",
      "75/75 [==============================] - 7s 99ms/step - loss: 0.0351 - accuracy: 0.9872 - val_loss: 0.0858 - val_accuracy: 0.9688\n",
      "Epoch 44/50\n",
      "75/75 [==============================] - 7s 98ms/step - loss: 0.0283 - accuracy: 0.9910 - val_loss: 0.1057 - val_accuracy: 0.9650\n",
      "Epoch 45/50\n",
      "75/75 [==============================] - 7s 98ms/step - loss: 0.0443 - accuracy: 0.9818 - val_loss: 0.0758 - val_accuracy: 0.9688\n",
      "Epoch 46/50\n",
      "75/75 [==============================] - 7s 99ms/step - loss: 0.0331 - accuracy: 0.9881 - val_loss: 0.0899 - val_accuracy: 0.9700\n",
      "Epoch 47/50\n",
      "75/75 [==============================] - 8s 104ms/step - loss: 0.0310 - accuracy: 0.9913 - val_loss: 0.0688 - val_accuracy: 0.9750\n",
      "Epoch 48/50\n",
      "75/75 [==============================] - 7s 99ms/step - loss: 0.0269 - accuracy: 0.9896 - val_loss: 0.1042 - val_accuracy: 0.9737\n",
      "Epoch 49/50\n",
      "75/75 [==============================] - 7s 99ms/step - loss: 0.0262 - accuracy: 0.9893 - val_loss: 0.0685 - val_accuracy: 0.9787\n",
      "Epoch 50/50\n",
      "75/75 [==============================] - 7s 99ms/step - loss: 0.0233 - accuracy: 0.9912 - val_loss: 0.0973 - val_accuracy: 0.9700\n"
     ]
    }
   ],
   "source": [
    "# Training the model\n",
    "\n",
    "hog_history = hog_model.fit(hog_X_train, hog_y_train, epochs=50, validation_data=(hog_X_val, hog_y_val))"
   ]
  },
  {
   "cell_type": "markdown",
   "id": "75acb646",
   "metadata": {},
   "source": [
    "##### First model with RGB images"
   ]
  },
  {
   "cell_type": "code",
   "execution_count": 31,
   "id": "45e29e7a",
   "metadata": {},
   "outputs": [],
   "source": [
    "# Using a 5x5 kernel and a pooling size of 3x3 at the start of the sequence\n",
    "\n",
    "# Increasing the number of nodes in the first convolution layer \n",
    "\n",
    "# Increasing the pool size in the first pool layer\n",
    "\n",
    "# Adding an extra convolutional layer + drop out layers to prevent over fitting\n",
    "\n",
    "# Adding an extra dense layer of 50 neurons towards the end\n",
    "\n",
    "# Increasing the epochs to 50\n",
    "\n",
    "# Setting my computer on fire\n",
    "\n",
    "model = Sequential()\n",
    "model.add(Conv2D(64, (5, 5), input_shape=(80, 80, 3), activation='relu'))\n",
    "model.add(MaxPooling2D(pool_size=(3, 3)))\n",
    "model.add(Dropout(0.25))\n",
    "model.add(Conv2D(32, (3, 3), input_shape=(80, 80, 3), activation='relu'))\n",
    "model.add(MaxPooling2D(pool_size=(2, 2)))\n",
    "model.add(Dropout(0.25))\n",
    "model.add(Conv2D(32, (3, 3), input_shape=(80, 80, 3), activation='relu'))\n",
    "model.add(MaxPooling2D(pool_size=(2, 2)))\n",
    "model.add(Flatten())\n",
    "model.add(Dense(100, activation='relu'))\n",
    "model.add(Dropout(0.25))\n",
    "model.add(Dense(100, activation='relu'))\n",
    "model.add(Dropout(0.25))\n",
    "model.add(Dense(50, activation='relu'))\n",
    "model.add(Dropout(0.25))\n",
    "model.add(Dense(2, activation='softmax'))\n",
    "\n",
    "model.compile(loss='categorical_crossentropy', optimizer='Adam', metrics=['accuracy'])"
   ]
  },
  {
   "cell_type": "code",
   "execution_count": 32,
   "id": "1c30bbdc",
   "metadata": {
    "scrolled": false
   },
   "outputs": [
    {
     "name": "stdout",
     "output_type": "stream",
     "text": [
      "Epoch 1/50\n",
      "75/75 [==============================] - 10s 121ms/step - loss: 0.5523 - accuracy: 0.7704 - val_loss: 0.3955 - val_accuracy: 0.8725\n",
      "Epoch 2/50\n",
      "75/75 [==============================] - 9s 117ms/step - loss: 0.3408 - accuracy: 0.8487 - val_loss: 0.2198 - val_accuracy: 0.9150\n",
      "Epoch 3/50\n",
      "75/75 [==============================] - 9s 117ms/step - loss: 0.2376 - accuracy: 0.9102 - val_loss: 0.2118 - val_accuracy: 0.9075\n",
      "Epoch 4/50\n",
      "75/75 [==============================] - 9s 115ms/step - loss: 0.1973 - accuracy: 0.9123 - val_loss: 0.2060 - val_accuracy: 0.9275\n",
      "Epoch 5/50\n",
      "75/75 [==============================] - 9s 116ms/step - loss: 0.1831 - accuracy: 0.9262 - val_loss: 0.1776 - val_accuracy: 0.9325\n",
      "Epoch 6/50\n",
      "75/75 [==============================] - 9s 116ms/step - loss: 0.1529 - accuracy: 0.9341 - val_loss: 0.1712 - val_accuracy: 0.9375\n",
      "Epoch 7/50\n",
      "75/75 [==============================] - 9s 115ms/step - loss: 0.1523 - accuracy: 0.9364 - val_loss: 0.1819 - val_accuracy: 0.9413\n",
      "Epoch 8/50\n",
      "75/75 [==============================] - 9s 117ms/step - loss: 0.1237 - accuracy: 0.9560 - val_loss: 0.1479 - val_accuracy: 0.9525\n",
      "Epoch 9/50\n",
      "75/75 [==============================] - 9s 122ms/step - loss: 0.1163 - accuracy: 0.9593 - val_loss: 0.1445 - val_accuracy: 0.9488\n",
      "Epoch 10/50\n",
      "75/75 [==============================] - 9s 122ms/step - loss: 0.0850 - accuracy: 0.9723 - val_loss: 0.2002 - val_accuracy: 0.9275\n",
      "Epoch 11/50\n",
      "75/75 [==============================] - 9s 121ms/step - loss: 0.1425 - accuracy: 0.9349 - val_loss: 0.1094 - val_accuracy: 0.9563\n",
      "Epoch 12/50\n",
      "75/75 [==============================] - 9s 116ms/step - loss: 0.1052 - accuracy: 0.9673 - val_loss: 0.1332 - val_accuracy: 0.9563\n",
      "Epoch 13/50\n",
      "75/75 [==============================] - 9s 116ms/step - loss: 0.0672 - accuracy: 0.9762 - val_loss: 0.1021 - val_accuracy: 0.9613\n",
      "Epoch 14/50\n",
      "75/75 [==============================] - 9s 114ms/step - loss: 0.0798 - accuracy: 0.9731 - val_loss: 0.1252 - val_accuracy: 0.9638\n",
      "Epoch 15/50\n",
      "75/75 [==============================] - 9s 114ms/step - loss: 0.0610 - accuracy: 0.9822 - val_loss: 0.1404 - val_accuracy: 0.9550\n",
      "Epoch 16/50\n",
      "75/75 [==============================] - 9s 114ms/step - loss: 0.0608 - accuracy: 0.9793 - val_loss: 0.1309 - val_accuracy: 0.9625\n",
      "Epoch 17/50\n",
      "75/75 [==============================] - 9s 115ms/step - loss: 0.0868 - accuracy: 0.9736 - val_loss: 0.1082 - val_accuracy: 0.9613\n",
      "Epoch 18/50\n",
      "75/75 [==============================] - 9s 117ms/step - loss: 0.0661 - accuracy: 0.9742 - val_loss: 0.1235 - val_accuracy: 0.9600\n",
      "Epoch 19/50\n",
      "75/75 [==============================] - 9s 119ms/step - loss: 0.0592 - accuracy: 0.9797 - val_loss: 0.0901 - val_accuracy: 0.9750\n",
      "Epoch 20/50\n",
      "75/75 [==============================] - 9s 118ms/step - loss: 0.0527 - accuracy: 0.9793 - val_loss: 0.0940 - val_accuracy: 0.9688\n",
      "Epoch 21/50\n",
      "75/75 [==============================] - 9s 117ms/step - loss: 0.0393 - accuracy: 0.9847 - val_loss: 0.1026 - val_accuracy: 0.9650\n",
      "Epoch 22/50\n",
      "75/75 [==============================] - 9s 117ms/step - loss: 0.0606 - accuracy: 0.9808 - val_loss: 0.1119 - val_accuracy: 0.9650\n",
      "Epoch 23/50\n",
      "75/75 [==============================] - 9s 116ms/step - loss: 0.0656 - accuracy: 0.9793 - val_loss: 0.1107 - val_accuracy: 0.9688\n",
      "Epoch 24/50\n",
      "75/75 [==============================] - 9s 115ms/step - loss: 0.0351 - accuracy: 0.9869 - val_loss: 0.0795 - val_accuracy: 0.9787\n",
      "Epoch 25/50\n",
      "75/75 [==============================] - 9s 115ms/step - loss: 0.0263 - accuracy: 0.9924 - val_loss: 0.1051 - val_accuracy: 0.9787\n",
      "Epoch 26/50\n",
      "75/75 [==============================] - 9s 116ms/step - loss: 0.0379 - accuracy: 0.9862 - val_loss: 0.1038 - val_accuracy: 0.9750\n",
      "Epoch 27/50\n",
      "75/75 [==============================] - 9s 115ms/step - loss: 0.0189 - accuracy: 0.9953 - val_loss: 0.1212 - val_accuracy: 0.9775\n",
      "Epoch 28/50\n",
      "75/75 [==============================] - 9s 116ms/step - loss: 0.0337 - accuracy: 0.9883 - val_loss: 0.0883 - val_accuracy: 0.9762\n",
      "Epoch 29/50\n",
      "75/75 [==============================] - 9s 116ms/step - loss: 0.0421 - accuracy: 0.9820 - val_loss: 0.1030 - val_accuracy: 0.9725\n",
      "Epoch 30/50\n",
      "75/75 [==============================] - 9s 116ms/step - loss: 0.0303 - accuracy: 0.9872 - val_loss: 0.1606 - val_accuracy: 0.9613\n",
      "Epoch 31/50\n",
      "75/75 [==============================] - 9s 115ms/step - loss: 0.0363 - accuracy: 0.9857 - val_loss: 0.1295 - val_accuracy: 0.9725\n",
      "Epoch 32/50\n",
      "75/75 [==============================] - 9s 116ms/step - loss: 0.0390 - accuracy: 0.9885 - val_loss: 0.0904 - val_accuracy: 0.9812\n",
      "Epoch 33/50\n",
      "75/75 [==============================] - 9s 116ms/step - loss: 0.0259 - accuracy: 0.9897 - val_loss: 0.1094 - val_accuracy: 0.9775\n",
      "Epoch 34/50\n",
      "75/75 [==============================] - 9s 115ms/step - loss: 0.0247 - accuracy: 0.9926 - val_loss: 0.0812 - val_accuracy: 0.9800\n",
      "Epoch 35/50\n",
      "75/75 [==============================] - 9s 116ms/step - loss: 0.0181 - accuracy: 0.9931 - val_loss: 0.1199 - val_accuracy: 0.9750\n",
      "Epoch 36/50\n",
      "75/75 [==============================] - 9s 118ms/step - loss: 0.0268 - accuracy: 0.9898 - val_loss: 0.0803 - val_accuracy: 0.9825\n",
      "Epoch 37/50\n",
      "75/75 [==============================] - 9s 116ms/step - loss: 0.0186 - accuracy: 0.9954 - val_loss: 0.0861 - val_accuracy: 0.9750\n",
      "Epoch 38/50\n",
      "75/75 [==============================] - 9s 120ms/step - loss: 0.0180 - accuracy: 0.9953 - val_loss: 0.0792 - val_accuracy: 0.9775\n",
      "Epoch 39/50\n",
      "75/75 [==============================] - 9s 116ms/step - loss: 0.0335 - accuracy: 0.9925 - val_loss: 0.0952 - val_accuracy: 0.9800\n",
      "Epoch 40/50\n",
      "75/75 [==============================] - 9s 116ms/step - loss: 0.0164 - accuracy: 0.9945 - val_loss: 0.1205 - val_accuracy: 0.9712\n",
      "Epoch 41/50\n",
      "75/75 [==============================] - 9s 115ms/step - loss: 0.0201 - accuracy: 0.9926 - val_loss: 0.1200 - val_accuracy: 0.9762\n",
      "Epoch 42/50\n",
      "75/75 [==============================] - 9s 115ms/step - loss: 0.0215 - accuracy: 0.9921 - val_loss: 0.0970 - val_accuracy: 0.9775\n",
      "Epoch 43/50\n",
      "75/75 [==============================] - 9s 115ms/step - loss: 0.0129 - accuracy: 0.9950 - val_loss: 0.0943 - val_accuracy: 0.9762\n",
      "Epoch 44/50\n",
      "75/75 [==============================] - 9s 115ms/step - loss: 0.0118 - accuracy: 0.9965 - val_loss: 0.1082 - val_accuracy: 0.9787\n",
      "Epoch 45/50\n",
      "75/75 [==============================] - 9s 115ms/step - loss: 0.0338 - accuracy: 0.9888 - val_loss: 0.0885 - val_accuracy: 0.9737\n",
      "Epoch 46/50\n",
      "75/75 [==============================] - 9s 116ms/step - loss: 0.0194 - accuracy: 0.9919 - val_loss: 0.1243 - val_accuracy: 0.9688\n",
      "Epoch 47/50\n",
      "75/75 [==============================] - 9s 114ms/step - loss: 0.0117 - accuracy: 0.9951 - val_loss: 0.1109 - val_accuracy: 0.9712\n",
      "Epoch 48/50\n",
      "75/75 [==============================] - 9s 115ms/step - loss: 0.0231 - accuracy: 0.9929 - val_loss: 0.0787 - val_accuracy: 0.9800\n",
      "Epoch 49/50\n",
      "75/75 [==============================] - 9s 114ms/step - loss: 0.0229 - accuracy: 0.9927 - val_loss: 0.0861 - val_accuracy: 0.9837\n",
      "Epoch 50/50\n",
      "75/75 [==============================] - 9s 116ms/step - loss: 0.0125 - accuracy: 0.9964 - val_loss: 0.0749 - val_accuracy: 0.9837\n"
     ]
    }
   ],
   "source": [
    "# Training the model\n",
    "\n",
    "history = model.fit(X_train, y_train, epochs=50, validation_data=(X_val, y_val))"
   ]
  },
  {
   "cell_type": "markdown",
   "id": "a9bb4009",
   "metadata": {},
   "source": [
    "## Compare RGB vs HOG"
   ]
  },
  {
   "cell_type": "markdown",
   "id": "f246f2e3",
   "metadata": {},
   "source": [
    "##### It seems like hog has lower loss!!!!"
   ]
  },
  {
   "cell_type": "code",
   "execution_count": 34,
   "id": "707999a0",
   "metadata": {},
   "outputs": [
    {
     "name": "stdout",
     "output_type": "stream",
     "text": [
      "25/25 [==============================] - 1s 27ms/step - loss: 0.0961 - accuracy: 0.9862\n"
     ]
    },
    {
     "data": {
      "text/plain": [
       "[0.0960763618350029, 0.9862499833106995]"
      ]
     },
     "execution_count": 34,
     "metadata": {},
     "output_type": "execute_result"
    }
   ],
   "source": [
    "model.evaluate(X_test, y_test)"
   ]
  },
  {
   "cell_type": "code",
   "execution_count": 35,
   "id": "b79725d6",
   "metadata": {},
   "outputs": [
    {
     "data": {
      "image/png": "[encoded data removed]",
      "text/plain": [
       "<Figure size 432x288 with 1 Axes>"
      ]
     },
     "metadata": {
      "needs_background": "light"
     },
     "output_type": "display_data"
    }
   ],
   "source": [
    "pd.DataFrame(hog_history.history).plot();"
   ]
  },
  {
   "cell_type": "code",
   "execution_count": 36,
   "id": "66891644",
   "metadata": {},
   "outputs": [
    {
     "name": "stdout",
     "output_type": "stream",
     "text": [
      "25/25 [==============================] - 1s 22ms/step - loss: 0.0425 - accuracy: 0.9800\n"
     ]
    },
    {
     "data": {
      "text/plain": [
       "[0.04250335320830345, 0.9800000190734863]"
      ]
     },
     "execution_count": 36,
     "metadata": {},
     "output_type": "execute_result"
    }
   ],
   "source": [
    "hog_model.evaluate(hog_X_test, hog_y_test)"
   ]
  },
  {
   "cell_type": "code",
   "execution_count": 37,
   "id": "6d05a525",
   "metadata": {},
   "outputs": [
    {
     "data": {
      "image/png": "[encoded data removed]",
      "text/plain": [
       "<Figure size 432x288 with 1 Axes>"
      ]
     },
     "metadata": {
      "needs_background": "light"
     },
     "output_type": "display_data"
    }
   ],
   "source": [
    "pd.DataFrame(history.history).plot();"
   ]
  },
  {
   "cell_type": "code",
   "execution_count": 38,
   "id": "3c8d6853",
   "metadata": {},
   "outputs": [
    {
     "name": "stderr",
     "output_type": "stream",
     "text": [
      "2021-12-15 12:17:04.881320: W tensorflow/python/util/util.cc:348] Sets are not currently considered sequences, but this may change in the future, so consider avoiding using them.\n"
     ]
    },
    {
     "name": "stdout",
     "output_type": "stream",
     "text": [
      "INFO:tensorflow:Assets written to: cnn_models/rgb_model/assets\n"
     ]
    }
   ],
   "source": [
    "model.save('cnn_models/rgb_model')"
   ]
  },
  {
   "cell_type": "code",
   "execution_count": 39,
   "id": "41961995",
   "metadata": {},
   "outputs": [
    {
     "name": "stdout",
     "output_type": "stream",
     "text": [
      "INFO:tensorflow:Assets written to: cnn_models/hog_model/assets\n"
     ]
    }
   ],
   "source": [
    "hog_model.save('cnn_models/hog_model')"
   ]
  },
  {
   "cell_type": "code",
   "execution_count": null,
   "id": "ada58fc0",
   "metadata": {},
   "outputs": [],
   "source": []
  }
 ],
 "metadata": {
  "kernelspec": {
   "display_name": "Python 3 (ipykernel)",
   "language": "python",
   "name": "python3"
  },
  "language_info": {
   "codemirror_mode": {
    "name": "ipython",
    "version": 3
   },
   "file_extension": ".py",
   "mimetype": "text/x-python",
   "name": "python",
   "nbconvert_exporter": "python",
   "pygments_lexer": "ipython3",
   "version": "3.9.7"
  }
 },
 "nbformat": 4,
 "nbformat_minor": 5
}
