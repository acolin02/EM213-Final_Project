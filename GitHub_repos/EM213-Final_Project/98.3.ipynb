{
 "cells": [
  {
   "cell_type": "code",
   "execution_count": 99,
   "id": "31e91170",
   "metadata": {},
   "outputs": [],
   "source": [
    "# Uploading the packages we'll need\n",
    "import os\n",
    "from zipfile import ZipFile\n",
    "import pickle\n",
    "import bz2\n",
    "import json\n",
    "\n",
    "import numpy.testing as npt\n",
    "\n",
    "import pandas as pd\n",
    "import numpy as np\n",
    "\n",
    "import json\n",
    "\n",
    "import tensorflow as tf\n",
    "from tensorflow import keras\n",
    "from tensorflow.keras.models import Sequential\n",
    "from tensorflow.keras.layers import Conv2D, MaxPooling2D, AveragePooling2D, Flatten, Dense, Dropout, Activation\n",
    "from keras.utils.np_utils import to_categorical\n",
    "from keras.optimizers import Adam, SGD\n",
    "\n",
    "from sklearn.model_selection import train_test_split\n",
    "from sklearn.metrics import confusion_matrix\n",
    "from sklearn.metrics import plot_confusion_matrix\n",
    "\n",
    "\n",
    "import seaborn as sns\n",
    "import matplotlib.pyplot as plt\n"
   ]
  },
  {
   "cell_type": "code",
   "execution_count": 100,
   "id": "b3584fe6",
   "metadata": {},
   "outputs": [],
   "source": [
    "# expected file paths\n",
    "DATA_ROOT_DIRECTORY: str = 'data'\n",
    "COMPRESSED_DATA_DIRECTORY_PATH: str = os.path.join(DATA_ROOT_DIRECTORY, 'compressed')\n",
    "COMPRESSED_MANIFEST_FILE_PATH: str = os.path.join(COMPRESSED_DATA_DIRECTORY_PATH, 'shipnet_manifest.pbz2')\n",
    "COMPRESSED_IMAGES_FILE_PATH: str = os.path.join(COMPRESSED_DATA_DIRECTORY_PATH, 'shipnet_images.zip')\n",
    "\n",
    "# file paths to createhttp://localhost:8888/notebooks/Documents/EN213_final/EM213-Final_Project-dev-kms/Ship%20Analysis.ipynb\n",
    "UNCOMPRESSED_DATA_DIRECTORY_PATH: str = os.path.join(DATA_ROOT_DIRECTORY, 'uncompressed')\n",
    "UNCOMPRESSED_MANIFEST_FILE_PATH: str = os.path.join(UNCOMPRESSED_DATA_DIRECTORY_PATH, 'shipnet.json')\n",
    "UNCOMPRESSED_IMAGES_DIRECTORY_PATH: str = os.path.join(UNCOMPRESSED_DATA_DIRECTORY_PATH, 'shipnet')\n",
    "    \n",
    "def get_full_path(local_path: str):\n",
    "    \"\"\"\n",
    "    Gets the full path from the local path.\n",
    "\n",
    "    :param local_path: a string pointing to a path local to this Notebook\n",
    "    :returns: a string pointing to the full path corresponding to the provided local path\n",
    "    \"\"\"\n",
    "    return os.path.join(os.getcwd(), local_path)\n",
    "\n",
    "def raise_file_not_found_error_for_path(expected_object: str, local_path: str):\n",
    "    \"\"\"\n",
    "    Raises a descriptive file not found error using the provided\n",
    "\n",
    "    :param expected_object: a string fragment describing the content of the expected file\n",
    "    :param local_path: the path that was not found\n",
    "    :return: None.\n",
    "    :raises FileNotFoundError\n",
    "    \"\"\"\n",
    "    raise FileNotFoundError(f'Could not find {expected_object} at the specified path: {get_full_path(local_path)}')"
   ]
  },
  {
   "cell_type": "code",
   "execution_count": 101,
   "id": "6b9ca2e5",
   "metadata": {},
   "outputs": [],
   "source": [
    "def deflate_manifest():\n",
    "    \"\"\"\n",
    "    Deflates the compressed manifest file using bz2 decompression. Note this will create a ~350 MB file in the\n",
    "    UNCOMPRESSED_DATA_DIRECTORY_PATH.\n",
    "\n",
    "    :return: None.\n",
    "    \"\"\"\n",
    "    with bz2.BZ2File(COMPRESSED_MANIFEST_FILE_PATH, 'rb') as input_file:\n",
    "        with open(UNCOMPRESSED_MANIFEST_FILE_PATH, 'w') as output_file:\n",
    "            json.dump(pickle.load(input_file), output_file)\n",
    "    return None\n",
    "\n",
    "\n",
    "def deflate_images():\n",
    "    \"\"\"\n",
    "    Deflates the compressed images file using zip decompression. Note this will create 4000 images in the\n",
    "    UNCOMPRESSED_IMAGES_DIRECTORY_PATH directory.\n",
    "\n",
    "    :return: None.\n",
    "    \"\"\"\n",
    "    with ZipFile(COMPRESSED_IMAGES_FILE_PATH, 'r') as input_file:\n",
    "        input_file.extractall(UNCOMPRESSED_IMAGES_DIRECTORY_PATH)\n",
    "    return None\n",
    "\n",
    "\n",
    "def check_and_deflate_all():\n",
    "    \"\"\"\n",
    "    Checks for expected input files and a non-existent UNCOMPRESSED_DATA_DIRECTORY_PATH directory, then\n",
    "    deflates the manifest and images. \n",
    "\n",
    "    :raises FileNotFoundError if expected input files are not found\n",
    "    :raises FileExistsError if UNCOMPRESSED_DATA_DIRECTORY_PATH exists\n",
    "    :returns: None.\n",
    "    \"\"\"\n",
    "\n",
    "    # check if compressed data directory exists\n",
    "    if os.path.isdir(COMPRESSED_DATA_DIRECTORY_PATH):\n",
    "\n",
    "        # if so, check for compressed manifest file\n",
    "        if not os.path.isfile(COMPRESSED_MANIFEST_FILE_PATH):\n",
    "            raise_file_not_found_error_for_path('the compressed manifest file', COMPRESSED_MANIFEST_FILE_PATH)\n",
    "\n",
    "        # and compressed images file\n",
    "        if not os.path.isfile(COMPRESSED_IMAGES_FILE_PATH):\n",
    "            raise_file_not_found_error_for_path('the compressed images file', COMPRESSED_IMAGES_FILE_PATH)\n",
    "\n",
    "    else:\n",
    "        raise raise_file_not_found_error_for_path('the compressed data directory', COMPRESSED_DATA_DIRECTORY_PATH)\n",
    "\n",
    "    # check if uncompressed data directory exists\n",
    "    if os.path.isdir(UNCOMPRESSED_DATA_DIRECTORY_PATH):\n",
    "        raise FileExistsError(('The path to the output directory already exists: '\n",
    "                               f'{get_full_path(UNCOMPRESSED_DATA_DIRECTORY_PATH)}. If you are sure you want to run this step '\n",
    "                               'please remove this directory manually - we will not overwrite it.'))\n",
    "\n",
    "    # inflate files\n",
    "    else:\n",
    "        os.mkdir(UNCOMPRESSED_DATA_DIRECTORY_PATH)\n",
    "        deflate_manifest()\n",
    "        deflate_images()\n",
    "\n",
    "    return None"
   ]
  },
  {
   "cell_type": "code",
   "execution_count": 102,
   "id": "17a87432",
   "metadata": {},
   "outputs": [
    {
     "ename": "FileExistsError",
     "evalue": "The path to the output directory already exists: /home/colinalejo/Documents/EN213_final/KERAS (98.3)/data/uncompressed. If you are sure you want to run this step please remove this directory manually - we will not overwrite it.",
     "output_type": "error",
     "traceback": [
      "\u001b[0;31m---------------------------------------------------------------------------\u001b[0m",
      "\u001b[0;31mFileExistsError\u001b[0m                           Traceback (most recent call last)",
      "\u001b[0;32m/tmp/ipykernel_3988/1391290550.py\u001b[0m in \u001b[0;36m<module>\u001b[0;34m\u001b[0m\n\u001b[0;32m----> 1\u001b[0;31m \u001b[0mcheck_and_deflate_all\u001b[0m\u001b[0;34m(\u001b[0m\u001b[0;34m)\u001b[0m\u001b[0;34m\u001b[0m\u001b[0;34m\u001b[0m\u001b[0m\n\u001b[0m",
      "\u001b[0;32m/tmp/ipykernel_3988/3867820348.py\u001b[0m in \u001b[0;36mcheck_and_deflate_all\u001b[0;34m()\u001b[0m\n\u001b[1;32m     50\u001b[0m     \u001b[0;31m# check if uncompressed data directory exists\u001b[0m\u001b[0;34m\u001b[0m\u001b[0;34m\u001b[0m\u001b[0m\n\u001b[1;32m     51\u001b[0m     \u001b[0;32mif\u001b[0m \u001b[0mos\u001b[0m\u001b[0;34m.\u001b[0m\u001b[0mpath\u001b[0m\u001b[0;34m.\u001b[0m\u001b[0misdir\u001b[0m\u001b[0;34m(\u001b[0m\u001b[0mUNCOMPRESSED_DATA_DIRECTORY_PATH\u001b[0m\u001b[0;34m)\u001b[0m\u001b[0;34m:\u001b[0m\u001b[0;34m\u001b[0m\u001b[0;34m\u001b[0m\u001b[0m\n\u001b[0;32m---> 52\u001b[0;31m         raise FileExistsError(('The path to the output directory already exists: '\n\u001b[0m\u001b[1;32m     53\u001b[0m                                \u001b[0;34mf'{get_full_path(UNCOMPRESSED_DATA_DIRECTORY_PATH)}. If you are sure you want to run this step '\u001b[0m\u001b[0;34m\u001b[0m\u001b[0;34m\u001b[0m\u001b[0m\n\u001b[1;32m     54\u001b[0m                                'please remove this directory manually - we will not overwrite it.'))\n",
      "\u001b[0;31mFileExistsError\u001b[0m: The path to the output directory already exists: /home/colinalejo/Documents/EN213_final/KERAS (98.3)/data/uncompressed. If you are sure you want to run this step please remove this directory manually - we will not overwrite it."
     ]
    }
   ],
   "source": [
    "check_and_deflate_all()"
   ]
  },
  {
   "cell_type": "code",
   "execution_count": 103,
   "id": "43f613aa",
   "metadata": {},
   "outputs": [],
   "source": [
    "# read in the manifest\n",
    "with open(UNCOMPRESSED_MANIFEST_FILE_PATH, 'r') as f:\n",
    "    dataset = json.load(f)\n",
    "\n"
   ]
  },
  {
   "cell_type": "code",
   "execution_count": 104,
   "id": "b0620458",
   "metadata": {},
   "outputs": [
    {
     "data": {
      "text/plain": [
       "0    3000\n",
       "1    1000\n",
       "dtype: int64"
      ]
     },
     "execution_count": 104,
     "metadata": {},
     "output_type": "execute_result"
    }
   ],
   "source": [
    "# Turning the json information into a numpy array and then assign it as our X and y values\n",
    "\n",
    "X = np.array(dataset['data']).astype('uint8')\n",
    "y = np.array(dataset['labels']).astype('uint8')\n",
    "\n",
    "# Identifying the class names\n",
    "\n",
    "class_names = ['Not A Ship', 'Ship']\n",
    "\n",
    "# Checking the amount of ship and not a ship labels for the images\n",
    "\n",
    "pd.Series(y).value_counts()"
   ]
  },
  {
   "cell_type": "code",
   "execution_count": 105,
   "id": "7c7f610c",
   "metadata": {},
   "outputs": [],
   "source": [
    "X_reshaped = X.reshape([-1, 3, 80, 80])\n",
    "X_reshaped = X.reshape([-1, 3, 80, 80]).transpose([0,2,3,1])\n",
    "y_reshaped = to_categorical(y, num_classes=2)\n",
    "#normlaize\n",
    "X_reshaped = X_reshaped / 255\n"
   ]
  },
  {
   "cell_type": "code",
   "execution_count": 106,
   "id": "46edae62",
   "metadata": {},
   "outputs": [
    {
     "data": {
      "text/plain": [
       "(4000, 2)"
      ]
     },
     "execution_count": 106,
     "metadata": {},
     "output_type": "execute_result"
    }
   ],
   "source": [
    "y_reshaped.shape"
   ]
  },
  {
   "cell_type": "code",
   "execution_count": 107,
   "id": "dc3c0d88",
   "metadata": {},
   "outputs": [],
   "source": [
    "# Doing the initial train/test split on the reshaped values\n",
    "X_train_full, X_test, y_train_full, y_test = train_test_split(X_reshaped, y_reshaped, test_size=0.20, random_state=42)\n",
    "\n",
    "# Creating the validation set\n",
    "X_train, X_val, y_train, y_val = train_test_split(X_train_full, y_train_full, test_size=0.25, random_state=42)\n",
    "\n",
    "\n"
   ]
  },
  {
   "cell_type": "code",
   "execution_count": 108,
   "id": "ab06670b",
   "metadata": {},
   "outputs": [
    {
     "data": {
      "text/plain": [
       "(800, 80, 80, 3)"
      ]
     },
     "execution_count": 108,
     "metadata": {},
     "output_type": "execute_result"
    }
   ],
   "source": [
    "\n",
    "\n",
    "X_test.shape\n",
    "\n"
   ]
  },
  {
   "cell_type": "code",
   "execution_count": 109,
   "id": "1d30dd60",
   "metadata": {},
   "outputs": [],
   "source": [
    "# Using Sequential and then adding the layers after\n",
    "model = Sequential()\n",
    "model.add(Flatten(input_shape=[80, 80, 3]))\n",
    "model.add(Dense(200, activation='relu'))\n",
    "model.add(Dense(200, activation='relu'))\n",
    "model.add(Dense(2, activation='sigmoid'))\n",
    "\n",
    "model.compile(loss='categorical_crossentropy', optimizer='Adam', metrics=['accuracy'])\n",
    "\n"
   ]
  },
  {
   "cell_type": "code",
   "execution_count": 110,
   "id": "dd8966c8",
   "metadata": {},
   "outputs": [
    {
     "name": "stdout",
     "output_type": "stream",
     "text": [
      "Train on 2400 samples, validate on 800 samples\n",
      "Epoch 1/20\n",
      "2400/2400 [==============================] - ETA: 0s - loss: 0.9614 - acc: 0.7733"
     ]
    },
    {
     "name": "stderr",
     "output_type": "stream",
     "text": [
      "/opt/anaconda/anaconda3/envs/tf_gpu/lib/python3.9/site-packages/tensorflow/python/keras/engine/training.py:2325: UserWarning: `Model.state_updates` will be removed in a future version. This property should not be used in TensorFlow 2.0, as `updates` are applied automatically.\n",
      "  warnings.warn('`Model.state_updates` will be removed in a future version. '\n"
     ]
    },
    {
     "name": "stdout",
     "output_type": "stream",
     "text": [
      "2400/2400 [==============================] - 2s 780us/sample - loss: 0.9614 - acc: 0.7733 - val_loss: 0.3843 - val_acc: 0.8325\n",
      "Epoch 2/20\n",
      "2400/2400 [==============================] - 2s 656us/sample - loss: 0.3474 - acc: 0.8679 - val_loss: 0.3494 - val_acc: 0.8562\n",
      "Epoch 3/20\n",
      "2400/2400 [==============================] - 2s 639us/sample - loss: 0.3656 - acc: 0.8596 - val_loss: 0.3015 - val_acc: 0.8763\n",
      "Epoch 4/20\n",
      "2400/2400 [==============================] - 2s 630us/sample - loss: 0.3678 - acc: 0.8558 - val_loss: 0.2601 - val_acc: 0.8988\n",
      "Epoch 5/20\n",
      "2400/2400 [==============================] - 1s 616us/sample - loss: 0.2697 - acc: 0.8938 - val_loss: 0.2531 - val_acc: 0.8913\n",
      "Epoch 6/20\n",
      "2400/2400 [==============================] - 1s 621us/sample - loss: 0.2975 - acc: 0.8875 - val_loss: 0.2377 - val_acc: 0.9075\n",
      "Epoch 7/20\n",
      "2400/2400 [==============================] - 1s 617us/sample - loss: 0.2567 - acc: 0.9033 - val_loss: 0.2474 - val_acc: 0.9025\n",
      "Epoch 8/20\n",
      "2400/2400 [==============================] - 2s 641us/sample - loss: 0.2652 - acc: 0.9025 - val_loss: 0.4603 - val_acc: 0.8150\n",
      "Epoch 9/20\n",
      "2400/2400 [==============================] - 2s 637us/sample - loss: 0.2527 - acc: 0.8958 - val_loss: 0.3211 - val_acc: 0.8800\n",
      "Epoch 10/20\n",
      "2400/2400 [==============================] - 2s 627us/sample - loss: 0.2650 - acc: 0.8950 - val_loss: 0.2243 - val_acc: 0.9125\n",
      "Epoch 11/20\n",
      "2400/2400 [==============================] - 2s 670us/sample - loss: 0.2578 - acc: 0.8996 - val_loss: 0.2571 - val_acc: 0.8988\n",
      "Epoch 12/20\n",
      "2400/2400 [==============================] - 2s 670us/sample - loss: 0.2916 - acc: 0.8858 - val_loss: 0.2178 - val_acc: 0.9137\n",
      "Epoch 13/20\n",
      "2400/2400 [==============================] - 2s 663us/sample - loss: 0.2429 - acc: 0.9017 - val_loss: 0.2505 - val_acc: 0.9225\n",
      "Epoch 14/20\n",
      "2400/2400 [==============================] - 1s 603us/sample - loss: 0.2612 - acc: 0.9021 - val_loss: 0.2089 - val_acc: 0.9212\n",
      "Epoch 15/20\n",
      "2400/2400 [==============================] - 2s 630us/sample - loss: 0.2251 - acc: 0.9108 - val_loss: 0.2011 - val_acc: 0.9175\n",
      "Epoch 16/20\n",
      "2400/2400 [==============================] - 1s 588us/sample - loss: 0.2338 - acc: 0.9058 - val_loss: 0.2081 - val_acc: 0.9200\n",
      "Epoch 17/20\n",
      "2400/2400 [==============================] - 1s 581us/sample - loss: 0.2416 - acc: 0.9067 - val_loss: 0.2021 - val_acc: 0.9187\n",
      "Epoch 18/20\n",
      "2400/2400 [==============================] - 1s 624us/sample - loss: 0.1806 - acc: 0.9275 - val_loss: 0.2123 - val_acc: 0.9187\n",
      "Epoch 19/20\n",
      "2400/2400 [==============================] - 2s 658us/sample - loss: 0.1728 - acc: 0.9312 - val_loss: 0.2006 - val_acc: 0.9287\n",
      "Epoch 20/20\n",
      "2400/2400 [==============================] - 2s 666us/sample - loss: 0.1706 - acc: 0.9325 - val_loss: 0.3036 - val_acc: 0.8725\n"
     ]
    }
   ],
   "source": [
    "# Training the model\n",
    "\n",
    "history = model.fit(X_train, y_train, epochs=20, validation_data=(X_val, y_val))\n",
    "\n"
   ]
  },
  {
   "cell_type": "code",
   "execution_count": 111,
   "id": "efac8e28",
   "metadata": {},
   "outputs": [
    {
     "data": {
      "text/plain": [
       "[0.343602300286293, 0.86125]"
      ]
     },
     "execution_count": 111,
     "metadata": {},
     "output_type": "execute_result"
    }
   ],
   "source": [
    "\n",
    "\n",
    "# Finding our final accuracy on the test set\n",
    "\n",
    "model.evaluate(X_test, y_test)\n",
    "\n"
   ]
  },
  {
   "cell_type": "code",
   "execution_count": 112,
   "id": "0070ecfd",
   "metadata": {},
   "outputs": [
    {
     "data": {
      "image/png": "[encoded data removed]",
      "text/plain": [
       "<Figure size 432x288 with 1 Axes>"
      ]
     },
     "metadata": {
      "needs_background": "light"
     },
     "output_type": "display_data"
    }
   ],
   "source": [
    "# Plotting the loss and accuracy\n",
    "\n",
    "pd.DataFrame(history.history).plot();"
   ]
  },
  {
   "cell_type": "markdown",
   "id": "b94a4efe",
   "metadata": {},
   "source": [
    "## Other"
   ]
  },
  {
   "cell_type": "code",
   "execution_count": 113,
   "id": "ca0cce4e",
   "metadata": {},
   "outputs": [
    {
     "name": "stdout",
     "output_type": "stream",
     "text": [
      "Train on 2400 samples, validate on 800 samples\n",
      "Epoch 1/50\n",
      "2400/2400 [==============================] - ETA: 0s - loss: 0.5138 - acc: 0.7675"
     ]
    },
    {
     "name": "stderr",
     "output_type": "stream",
     "text": [
      "/opt/anaconda/anaconda3/envs/tf_gpu/lib/python3.9/site-packages/tensorflow/python/keras/engine/training.py:2325: UserWarning: `Model.state_updates` will be removed in a future version. This property should not be used in TensorFlow 2.0, as `updates` are applied automatically.\n",
      "  warnings.warn('`Model.state_updates` will be removed in a future version. '\n"
     ]
    },
    {
     "name": "stdout",
     "output_type": "stream",
     "text": [
      "2400/2400 [==============================] - 11s 4ms/sample - loss: 0.5138 - acc: 0.7675 - val_loss: 0.3576 - val_acc: 0.8650\n",
      "Epoch 2/50\n",
      "2400/2400 [==============================] - 9s 4ms/sample - loss: 0.3101 - acc: 0.8708 - val_loss: 0.2799 - val_acc: 0.8975\n",
      "Epoch 3/50\n",
      "2400/2400 [==============================] - 9s 4ms/sample - loss: 0.2260 - acc: 0.9042 - val_loss: 0.2115 - val_acc: 0.9175\n",
      "Epoch 4/50\n",
      "2400/2400 [==============================] - 9s 4ms/sample - loss: 0.1972 - acc: 0.9154 - val_loss: 0.2075 - val_acc: 0.9212\n",
      "Epoch 5/50\n",
      "2400/2400 [==============================] - 10s 4ms/sample - loss: 0.1803 - acc: 0.9267 - val_loss: 0.1590 - val_acc: 0.9488\n",
      "Epoch 6/50\n",
      "2400/2400 [==============================] - 9s 4ms/sample - loss: 0.1432 - acc: 0.9450 - val_loss: 0.1709 - val_acc: 0.9450\n",
      "Epoch 7/50\n",
      "2400/2400 [==============================] - 9s 4ms/sample - loss: 0.1310 - acc: 0.9479 - val_loss: 0.1381 - val_acc: 0.9563\n",
      "Epoch 8/50\n",
      "2400/2400 [==============================] - 9s 4ms/sample - loss: 0.1139 - acc: 0.9592 - val_loss: 0.1619 - val_acc: 0.9413\n",
      "Epoch 9/50\n",
      "2400/2400 [==============================] - 10s 4ms/sample - loss: 0.1071 - acc: 0.9563 - val_loss: 0.1532 - val_acc: 0.9425\n",
      "Epoch 10/50\n",
      "2400/2400 [==============================] - 10s 4ms/sample - loss: 0.1037 - acc: 0.9642 - val_loss: 0.1182 - val_acc: 0.9563\n",
      "Epoch 11/50\n",
      "2400/2400 [==============================] - 9s 4ms/sample - loss: 0.0958 - acc: 0.9646 - val_loss: 0.1189 - val_acc: 0.9500\n",
      "Epoch 12/50\n",
      "2400/2400 [==============================] - 9s 4ms/sample - loss: 0.0831 - acc: 0.9692 - val_loss: 0.1670 - val_acc: 0.9475\n",
      "Epoch 13/50\n",
      "2400/2400 [==============================] - 9s 4ms/sample - loss: 0.0887 - acc: 0.9658 - val_loss: 0.1457 - val_acc: 0.9513\n",
      "Epoch 14/50\n",
      "2400/2400 [==============================] - 9s 4ms/sample - loss: 0.1059 - acc: 0.9596 - val_loss: 0.1189 - val_acc: 0.9550\n",
      "Epoch 15/50\n",
      "2400/2400 [==============================] - 10s 4ms/sample - loss: 0.0596 - acc: 0.9796 - val_loss: 0.1186 - val_acc: 0.9625\n",
      "Epoch 16/50\n",
      "2400/2400 [==============================] - 11s 5ms/sample - loss: 0.0644 - acc: 0.9758 - val_loss: 0.1122 - val_acc: 0.9575\n",
      "Epoch 17/50\n",
      "2400/2400 [==============================] - 9s 4ms/sample - loss: 0.0568 - acc: 0.9792 - val_loss: 0.1128 - val_acc: 0.9613\n",
      "Epoch 18/50\n",
      "2400/2400 [==============================] - 9s 4ms/sample - loss: 0.0669 - acc: 0.9725 - val_loss: 0.1244 - val_acc: 0.9563\n",
      "Epoch 19/50\n",
      "2400/2400 [==============================] - 9s 4ms/sample - loss: 0.0533 - acc: 0.9787 - val_loss: 0.1385 - val_acc: 0.9550\n",
      "Epoch 20/50\n",
      "2400/2400 [==============================] - 10s 4ms/sample - loss: 0.0504 - acc: 0.9829 - val_loss: 0.1136 - val_acc: 0.9638\n",
      "Epoch 21/50\n",
      "2400/2400 [==============================] - 9s 4ms/sample - loss: 0.0525 - acc: 0.9842 - val_loss: 0.1063 - val_acc: 0.9650\n",
      "Epoch 22/50\n",
      "2400/2400 [==============================] - 11s 4ms/sample - loss: 0.0349 - acc: 0.9879 - val_loss: 0.1144 - val_acc: 0.9650\n",
      "Epoch 23/50\n",
      "2400/2400 [==============================] - 10s 4ms/sample - loss: 0.0433 - acc: 0.9854 - val_loss: 0.1360 - val_acc: 0.9650\n",
      "Epoch 24/50\n",
      "2400/2400 [==============================] - 9s 4ms/sample - loss: 0.0662 - acc: 0.9792 - val_loss: 0.1092 - val_acc: 0.9613\n",
      "Epoch 25/50\n",
      "2400/2400 [==============================] - 9s 4ms/sample - loss: 0.0497 - acc: 0.9817 - val_loss: 0.0843 - val_acc: 0.9725\n",
      "Epoch 26/50\n",
      "2400/2400 [==============================] - 9s 4ms/sample - loss: 0.0409 - acc: 0.9867 - val_loss: 0.1074 - val_acc: 0.9725\n",
      "Epoch 27/50\n",
      "2400/2400 [==============================] - 11s 4ms/sample - loss: 0.0327 - acc: 0.9871 - val_loss: 0.1286 - val_acc: 0.9613\n",
      "Epoch 28/50\n",
      "2400/2400 [==============================] - 10s 4ms/sample - loss: 0.0544 - acc: 0.9829 - val_loss: 0.1165 - val_acc: 0.9675\n",
      "Epoch 29/50\n",
      "2400/2400 [==============================] - 9s 4ms/sample - loss: 0.0307 - acc: 0.9896 - val_loss: 0.0927 - val_acc: 0.9725\n",
      "Epoch 30/50\n",
      "2400/2400 [==============================] - 11s 4ms/sample - loss: 0.0338 - acc: 0.9879 - val_loss: 0.1004 - val_acc: 0.9725\n",
      "Epoch 31/50\n",
      "2400/2400 [==============================] - 10s 4ms/sample - loss: 0.0236 - acc: 0.9917 - val_loss: 0.1072 - val_acc: 0.9688\n",
      "Epoch 32/50\n",
      "2400/2400 [==============================] - 10s 4ms/sample - loss: 0.0399 - acc: 0.9854 - val_loss: 0.1169 - val_acc: 0.9700\n",
      "Epoch 33/50\n",
      "2400/2400 [==============================] - 10s 4ms/sample - loss: 0.0267 - acc: 0.9912 - val_loss: 0.1115 - val_acc: 0.9712\n",
      "Epoch 34/50\n",
      "2400/2400 [==============================] - 10s 4ms/sample - loss: 0.0647 - acc: 0.9775 - val_loss: 0.1036 - val_acc: 0.9712\n",
      "Epoch 35/50\n",
      "2400/2400 [==============================] - 10s 4ms/sample - loss: 0.0328 - acc: 0.9892 - val_loss: 0.0877 - val_acc: 0.9800\n",
      "Epoch 36/50\n",
      "2400/2400 [==============================] - 10s 4ms/sample - loss: 0.0352 - acc: 0.9892 - val_loss: 0.1022 - val_acc: 0.9700\n",
      "Epoch 37/50\n",
      "2400/2400 [==============================] - 11s 4ms/sample - loss: 0.0291 - acc: 0.9892 - val_loss: 0.0802 - val_acc: 0.9762\n",
      "Epoch 38/50\n",
      "2400/2400 [==============================] - 9s 4ms/sample - loss: 0.0217 - acc: 0.9937 - val_loss: 0.1554 - val_acc: 0.9638\n",
      "Epoch 39/50\n",
      "2400/2400 [==============================] - 9s 4ms/sample - loss: 0.0434 - acc: 0.9871 - val_loss: 0.1365 - val_acc: 0.9675\n",
      "Epoch 40/50\n",
      "2400/2400 [==============================] - 10s 4ms/sample - loss: 0.0237 - acc: 0.9933 - val_loss: 0.1155 - val_acc: 0.9725\n",
      "Epoch 41/50\n",
      "2400/2400 [==============================] - 10s 4ms/sample - loss: 0.0171 - acc: 0.9929 - val_loss: 0.1146 - val_acc: 0.9737\n",
      "Epoch 42/50\n",
      "2400/2400 [==============================] - 10s 4ms/sample - loss: 0.0234 - acc: 0.9933 - val_loss: 0.1206 - val_acc: 0.9712\n",
      "Epoch 43/50\n",
      "2400/2400 [==============================] - 10s 4ms/sample - loss: 0.0224 - acc: 0.9933 - val_loss: 0.1281 - val_acc: 0.9750\n",
      "Epoch 44/50\n",
      "2400/2400 [==============================] - 12s 5ms/sample - loss: 0.0209 - acc: 0.9912 - val_loss: 0.1279 - val_acc: 0.9675\n",
      "Epoch 45/50\n",
      "2400/2400 [==============================] - 11s 4ms/sample - loss: 0.0176 - acc: 0.9946 - val_loss: 0.1269 - val_acc: 0.9750\n",
      "Epoch 46/50\n",
      "2400/2400 [==============================] - 10s 4ms/sample - loss: 0.0292 - acc: 0.9892 - val_loss: 0.0854 - val_acc: 0.9750\n",
      "Epoch 47/50\n",
      "2400/2400 [==============================] - 10s 4ms/sample - loss: 0.0180 - acc: 0.9933 - val_loss: 0.1140 - val_acc: 0.9750\n",
      "Epoch 48/50\n",
      "2400/2400 [==============================] - 9s 4ms/sample - loss: 0.0126 - acc: 0.9958 - val_loss: 0.0898 - val_acc: 0.9800\n",
      "Epoch 49/50\n",
      "2400/2400 [==============================] - 10s 4ms/sample - loss: 0.0141 - acc: 0.9971 - val_loss: 0.1237 - val_acc: 0.9762\n",
      "Epoch 50/50\n",
      "2400/2400 [==============================] - 9s 4ms/sample - loss: 0.0369 - acc: 0.9862 - val_loss: 0.0998 - val_acc: 0.9737\n"
     ]
    }
   ],
   "source": [
    "# Using a 5x5 kernel and a pooling size of 3x3 at the start of the sequence\n",
    "\n",
    "# Increasing the number of nodes in the first convolution layer \n",
    "\n",
    "# Increasing the pool size in the first pool layer\n",
    "\n",
    "# Adding an extra convolutional layer + drop out layers to prevent over fitting\n",
    "\n",
    "# Adding an extra dense layer of 50 neurons towards the end\n",
    "\n",
    "# Increasing the epochs to 50\n",
    "\n",
    "# Setting my computer on fire\n",
    "\n",
    "model2 = Sequential()\n",
    "model2.add(Conv2D(64, (5, 5), input_shape=(80, 80, 3), activation='relu'))\n",
    "model2.add(MaxPooling2D(pool_size=(3, 3)))\n",
    "model2.add(Dropout(0.25))\n",
    "model2.add(Conv2D(32, (3, 3), input_shape=(80, 80, 3), activation='relu'))\n",
    "model2.add(MaxPooling2D(pool_size=(2, 2)))\n",
    "model2.add(Dropout(0.25))\n",
    "model2.add(Conv2D(32, (3, 3), input_shape=(80, 80, 3), activation='relu'))\n",
    "model2.add(MaxPooling2D(pool_size=(2, 2)))\n",
    "model2.add(Flatten())\n",
    "model2.add(Dense(100, activation='relu'))\n",
    "model2.add(Dropout(0.25))\n",
    "model2.add(Dense(100, activation='relu'))\n",
    "model2.add(Dropout(0.25))\n",
    "model2.add(Dense(50, activation='relu'))\n",
    "model2.add(Dropout(0.25))\n",
    "model2.add(Dense(2, activation='softmax'))\n",
    "\n",
    "model2.compile(loss='categorical_crossentropy', optimizer='Adam', metrics=['accuracy'])\n",
    "\n",
    "# Training the model\n",
    "\n",
    "history2 = model2.fit(X_train, y_train, epochs=50, validation_data=(X_val, y_val))\n",
    "\n"
   ]
  },
  {
   "cell_type": "code",
   "execution_count": 114,
   "id": "7a9de8dd",
   "metadata": {},
   "outputs": [
    {
     "data": {
      "text/plain": [
       "[0.11464064531493932, 0.9775]"
      ]
     },
     "execution_count": 114,
     "metadata": {},
     "output_type": "execute_result"
    }
   ],
   "source": [
    "\n",
    "\n",
    "# Finding our final accuracy on the test set\n",
    "\n",
    "model2.evaluate(X_test, y_test)\n"
   ]
  },
  {
   "cell_type": "code",
   "execution_count": 115,
   "id": "c4a2f1f0",
   "metadata": {
    "scrolled": true
   },
   "outputs": [
    {
     "data": {
      "image/png": "[encoded data removed]",
      "text/plain": [
       "<Figure size 432x288 with 1 Axes>"
      ]
     },
     "metadata": {
      "needs_background": "light"
     },
     "output_type": "display_data"
    }
   ],
   "source": [
    "# Plotting the loss and accuracy\n",
    "\n",
    "pd.DataFrame(history2.history).plot();"
   ]
  },
  {
   "cell_type": "code",
   "execution_count": 116,
   "id": "c680e25f",
   "metadata": {},
   "outputs": [
    {
     "name": "stdout",
     "output_type": "stream",
     "text": [
      "Train on 2400 samples, validate on 800 samples\n",
      "Epoch 1/50\n",
      "2400/2400 [==============================] - ETA: 0s - loss: 0.3970 - acc: 0.8346"
     ]
    },
    {
     "name": "stderr",
     "output_type": "stream",
     "text": [
      "/opt/anaconda/anaconda3/envs/tf_gpu/lib/python3.9/site-packages/tensorflow/python/keras/engine/training.py:2325: UserWarning: `Model.state_updates` will be removed in a future version. This property should not be used in TensorFlow 2.0, as `updates` are applied automatically.\n",
      "  warnings.warn('`Model.state_updates` will be removed in a future version. '\n"
     ]
    },
    {
     "name": "stdout",
     "output_type": "stream",
     "text": [
      "2400/2400 [==============================] - 27s 11ms/sample - loss: 0.3970 - acc: 0.8346 - val_loss: 0.2442 - val_acc: 0.9000\n",
      "Epoch 2/50\n",
      "2400/2400 [==============================] - 28s 12ms/sample - loss: 0.1987 - acc: 0.9192 - val_loss: 0.1522 - val_acc: 0.9438\n",
      "Epoch 3/50\n",
      "2400/2400 [==============================] - 27s 11ms/sample - loss: 0.1273 - acc: 0.9517 - val_loss: 0.1054 - val_acc: 0.9600\n",
      "Epoch 4/50\n",
      "2400/2400 [==============================] - 26s 11ms/sample - loss: 0.0820 - acc: 0.9712 - val_loss: 0.1143 - val_acc: 0.9563\n",
      "Epoch 5/50\n",
      "2400/2400 [==============================] - 28s 12ms/sample - loss: 0.0764 - acc: 0.9733 - val_loss: 0.0785 - val_acc: 0.9675\n",
      "Epoch 6/50\n",
      "2400/2400 [==============================] - 26s 11ms/sample - loss: 0.0742 - acc: 0.9758 - val_loss: 0.1622 - val_acc: 0.9538\n",
      "Epoch 7/50\n",
      "2400/2400 [==============================] - 27s 11ms/sample - loss: 0.0492 - acc: 0.9842 - val_loss: 0.1039 - val_acc: 0.9650\n",
      "Epoch 8/50\n",
      "2400/2400 [==============================] - 26s 11ms/sample - loss: 0.0263 - acc: 0.9908 - val_loss: 0.1882 - val_acc: 0.9675\n",
      "Epoch 9/50\n",
      "2400/2400 [==============================] - 27s 11ms/sample - loss: 0.0323 - acc: 0.9917 - val_loss: 0.1012 - val_acc: 0.9800\n",
      "Epoch 10/50\n",
      "2400/2400 [==============================] - 27s 11ms/sample - loss: 0.0269 - acc: 0.9904 - val_loss: 0.1616 - val_acc: 0.9650\n",
      "Epoch 11/50\n",
      "2400/2400 [==============================] - 25s 11ms/sample - loss: 0.0283 - acc: 0.9892 - val_loss: 0.1177 - val_acc: 0.9762\n",
      "Epoch 12/50\n",
      "2400/2400 [==============================] - 26s 11ms/sample - loss: 0.0166 - acc: 0.9937 - val_loss: 0.1261 - val_acc: 0.9725\n",
      "Epoch 13/50\n",
      "2400/2400 [==============================] - 26s 11ms/sample - loss: 0.0137 - acc: 0.9954 - val_loss: 0.1226 - val_acc: 0.9762\n",
      "Epoch 14/50\n",
      "2400/2400 [==============================] - 27s 11ms/sample - loss: 0.0192 - acc: 0.9921 - val_loss: 0.1362 - val_acc: 0.9712\n",
      "Epoch 15/50\n",
      "2400/2400 [==============================] - 28s 12ms/sample - loss: 0.0136 - acc: 0.9967 - val_loss: 0.1216 - val_acc: 0.9775\n",
      "Epoch 16/50\n",
      "2400/2400 [==============================] - 26s 11ms/sample - loss: 0.0056 - acc: 0.9983 - val_loss: 0.1162 - val_acc: 0.9762\n",
      "Epoch 17/50\n",
      "2400/2400 [==============================] - 27s 11ms/sample - loss: 0.0031 - acc: 0.9983 - val_loss: 0.1403 - val_acc: 0.9775\n",
      "Epoch 18/50\n",
      "2400/2400 [==============================] - 28s 12ms/sample - loss: 0.0054 - acc: 0.9979 - val_loss: 0.1375 - val_acc: 0.9825\n",
      "Epoch 19/50\n",
      "2400/2400 [==============================] - 28s 11ms/sample - loss: 0.0126 - acc: 0.9954 - val_loss: 0.1681 - val_acc: 0.9800\n",
      "Epoch 20/50\n",
      "2400/2400 [==============================] - 26s 11ms/sample - loss: 0.0202 - acc: 0.9946 - val_loss: 0.1137 - val_acc: 0.9762\n",
      "Epoch 21/50\n",
      "2400/2400 [==============================] - 28s 12ms/sample - loss: 0.0013 - acc: 1.0000 - val_loss: 0.1128 - val_acc: 0.9787\n",
      "Epoch 22/50\n",
      "2400/2400 [==============================] - 29s 12ms/sample - loss: 7.1000e-04 - acc: 1.0000 - val_loss: 0.1110 - val_acc: 0.9812\n",
      "Epoch 23/50\n",
      "2400/2400 [==============================] - 25s 11ms/sample - loss: 5.9243e-04 - acc: 1.0000 - val_loss: 0.1287 - val_acc: 0.9812\n",
      "Epoch 24/50\n",
      "2400/2400 [==============================] - 25s 11ms/sample - loss: 3.5879e-04 - acc: 1.0000 - val_loss: 0.1313 - val_acc: 0.9812\n",
      "Epoch 25/50\n",
      "2400/2400 [==============================] - 25s 10ms/sample - loss: 1.6500e-04 - acc: 1.0000 - val_loss: 0.1326 - val_acc: 0.9825\n",
      "Epoch 26/50\n",
      "2400/2400 [==============================] - 25s 11ms/sample - loss: 2.4498e-04 - acc: 1.0000 - val_loss: 0.1352 - val_acc: 0.9812\n",
      "Epoch 27/50\n",
      "2400/2400 [==============================] - 25s 10ms/sample - loss: 1.0189e-04 - acc: 1.0000 - val_loss: 0.1394 - val_acc: 0.9812\n",
      "Epoch 28/50\n",
      "2400/2400 [==============================] - 25s 10ms/sample - loss: 1.0662e-04 - acc: 1.0000 - val_loss: 0.1456 - val_acc: 0.9812\n",
      "Epoch 29/50\n",
      "2400/2400 [==============================] - 25s 10ms/sample - loss: 1.3784e-04 - acc: 1.0000 - val_loss: 0.1476 - val_acc: 0.9812\n",
      "Epoch 30/50\n",
      "2400/2400 [==============================] - 27s 11ms/sample - loss: 1.9775e-04 - acc: 1.0000 - val_loss: 0.1467 - val_acc: 0.9812\n",
      "Epoch 31/50\n",
      "2400/2400 [==============================] - 27s 11ms/sample - loss: 7.5135e-05 - acc: 1.0000 - val_loss: 0.1447 - val_acc: 0.9825\n",
      "Epoch 32/50\n",
      "2400/2400 [==============================] - 27s 11ms/sample - loss: 4.7206e-05 - acc: 1.0000 - val_loss: 0.1472 - val_acc: 0.9825\n",
      "Epoch 33/50\n",
      "2400/2400 [==============================] - 25s 10ms/sample - loss: 1.3147e-04 - acc: 1.0000 - val_loss: 0.1462 - val_acc: 0.9837\n",
      "Epoch 34/50\n",
      "2400/2400 [==============================] - 25s 11ms/sample - loss: 9.9759e-05 - acc: 1.0000 - val_loss: 0.1484 - val_acc: 0.9837\n",
      "Epoch 35/50\n",
      "2400/2400 [==============================] - 25s 11ms/sample - loss: 7.5774e-05 - acc: 1.0000 - val_loss: 0.1515 - val_acc: 0.9837\n",
      "Epoch 36/50\n",
      "2400/2400 [==============================] - 28s 12ms/sample - loss: 5.6747e-05 - acc: 1.0000 - val_loss: 0.1559 - val_acc: 0.9837\n",
      "Epoch 37/50\n",
      "2400/2400 [==============================] - 26s 11ms/sample - loss: 9.0085e-05 - acc: 1.0000 - val_loss: 0.1512 - val_acc: 0.9825\n",
      "Epoch 38/50\n",
      "2400/2400 [==============================] - 28s 12ms/sample - loss: 4.1540e-05 - acc: 1.0000 - val_loss: 0.1564 - val_acc: 0.9825\n",
      "Epoch 39/50\n",
      "2400/2400 [==============================] - 28s 12ms/sample - loss: 2.5158e-05 - acc: 1.0000 - val_loss: 0.1583 - val_acc: 0.9825\n",
      "Epoch 40/50\n",
      "2400/2400 [==============================] - 28s 12ms/sample - loss: 6.2977e-05 - acc: 1.0000 - val_loss: 0.1604 - val_acc: 0.9825\n",
      "Epoch 41/50\n",
      "2400/2400 [==============================] - 29s 12ms/sample - loss: 3.9206e-05 - acc: 1.0000 - val_loss: 0.1613 - val_acc: 0.9825\n",
      "Epoch 42/50\n",
      "2400/2400 [==============================] - 26s 11ms/sample - loss: 4.3572e-05 - acc: 1.0000 - val_loss: 0.1629 - val_acc: 0.9825\n",
      "Epoch 43/50\n",
      "2400/2400 [==============================] - 27s 11ms/sample - loss: 3.8036e-05 - acc: 1.0000 - val_loss: 0.1656 - val_acc: 0.9825\n",
      "Epoch 44/50\n",
      "2400/2400 [==============================] - 28s 12ms/sample - loss: 2.9270e-05 - acc: 1.0000 - val_loss: 0.1685 - val_acc: 0.9800\n",
      "Epoch 45/50\n",
      "2400/2400 [==============================] - 25s 10ms/sample - loss: 4.0718e-05 - acc: 1.0000 - val_loss: 0.1727 - val_acc: 0.9800\n",
      "Epoch 46/50\n",
      "2400/2400 [==============================] - 26s 11ms/sample - loss: 3.2546e-05 - acc: 1.0000 - val_loss: 0.1771 - val_acc: 0.9800\n",
      "Epoch 47/50\n",
      "2400/2400 [==============================] - 26s 11ms/sample - loss: 6.5684e-05 - acc: 1.0000 - val_loss: 0.1713 - val_acc: 0.9812\n",
      "Epoch 48/50\n",
      "2400/2400 [==============================] - 25s 11ms/sample - loss: 3.2028e-05 - acc: 1.0000 - val_loss: 0.1664 - val_acc: 0.9825\n",
      "Epoch 49/50\n",
      "2400/2400 [==============================] - 26s 11ms/sample - loss: 1.8234e-04 - acc: 1.0000 - val_loss: 0.1963 - val_acc: 0.9775\n",
      "Epoch 50/50\n",
      "2400/2400 [==============================] - 26s 11ms/sample - loss: 9.2635e-05 - acc: 1.0000 - val_loss: 0.1719 - val_acc: 0.9787\n"
     ]
    }
   ],
   "source": [
    "\n",
    "\n",
    "model3 = Sequential()\n",
    "model3.add(Conv2D(32, (3, 3), padding=\"same\", input_shape=(80, 80, 3), activation='relu'))\n",
    "model3.add(Conv2D(32, (3, 3), activation='relu'))\n",
    "model3.add(MaxPooling2D(pool_size=(2, 2)))\n",
    "model3.add(Dropout(0.2))\n",
    "\n",
    "model3.add(Conv2D(64, (3, 3), padding=\"same\", activation='relu'))\n",
    "model3.add(Conv2D(64, (3, 3), activation='relu'))\n",
    "model3.add(MaxPooling2D(pool_size=(2, 2)))\n",
    "#model.add(Dropout(0.2))\n",
    "\n",
    "# model.add(Conv2D(128, (3, 3), padding=\"same\", activation='relu'))\n",
    "# model.add(Conv2D(128, (3, 3), activation='relu'))\n",
    "# model.add(MaxPooling2D(pool_size=(2, 2)))\n",
    "# model.add(Dropout(0.2))\n",
    "\n",
    "model3.add(Flatten())\n",
    "model3.add(Dense(512, activation='relu'))\n",
    "model3.add(Dropout(0.2))\n",
    "model3.add(Dense(2, activation='softmax'))\n",
    "\n",
    "model3.compile(loss='categorical_crossentropy', optimizer=SGD(lr=0.01, momentum=0.9, nesterov=True), \n",
    "              metrics=['accuracy'])\n",
    "\n",
    "history3 = model3.fit(X_train, y_train, epochs=50, validation_data=(X_val, y_val)) #change epoch to 22"
   ]
  },
  {
   "cell_type": "code",
   "execution_count": 117,
   "id": "5f78c5f9",
   "metadata": {},
   "outputs": [
    {
     "data": {
      "text/plain": [
       "[0.13681300118047715, 0.98375]"
      ]
     },
     "execution_count": 117,
     "metadata": {},
     "output_type": "execute_result"
    }
   ],
   "source": [
    "model3.evaluate(X_test, y_test)"
   ]
  },
  {
   "cell_type": "code",
   "execution_count": 118,
   "id": "8190d806",
   "metadata": {},
   "outputs": [
    {
     "data": {
      "image/png": "[encoded data removed]",
      "text/plain": [
       "<Figure size 432x288 with 1 Axes>"
      ]
     },
     "metadata": {
      "needs_background": "light"
     },
     "output_type": "display_data"
    }
   ],
   "source": [
    "# Plotting the loss and accuracy\n",
    "\n",
    "pd.DataFrame(history3.history).plot();"
   ]
  },
  {
   "cell_type": "code",
   "execution_count": null,
   "id": "915e3cc0",
   "metadata": {},
   "outputs": [],
   "source": [
    "model2.save('path/to/location')"
   ]
  },
  {
   "cell_type": "code",
   "execution_count": null,
   "id": "64d9ae9c",
   "metadata": {},
   "outputs": [],
   "source": [
    "model3.save('path/to/location')"
   ]
  }
 ],
 "metadata": {
  "kernelspec": {
   "display_name": "Python 3 (ipykernel)",
   "language": "python",
   "name": "python3"
  },
  "language_info": {
   "codemirror_mode": {
    "name": "ipython",
    "version": 3
   },
   "file_extension": ".py",
   "mimetype": "text/x-python",
   "name": "python",
   "nbconvert_exporter": "python",
   "pygments_lexer": "ipython3",
   "version": "3.9.7"
  }
 },
 "nbformat": 4,
 "nbformat_minor": 5
}
